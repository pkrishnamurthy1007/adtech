{
 "cells": [
  {
   "cell_type": "code",
   "execution_count": 2,
   "metadata": {},
   "outputs": [
    {
     "name": "stdout",
     "output_type": "stream",
     "text": [
      "['Solarize_Light2', '_classic_test_patch', 'bmh', 'classic', 'dark_background', 'fast', 'fivethirtyeight', 'ggplot', 'grayscale', 'seaborn', 'seaborn-bright', 'seaborn-colorblind', 'seaborn-dark', 'seaborn-dark-palette', 'seaborn-darkgrid', 'seaborn-deep', 'seaborn-muted', 'seaborn-notebook', 'seaborn-paper', 'seaborn-pastel', 'seaborn-poster', 'seaborn-talk', 'seaborn-ticks', 'seaborn-white', 'seaborn-whitegrid', 'tableau-colorblind10']\n"
     ]
    }
   ],
   "source": [
    "import numpy as np\n",
    "import pandas as pd\n",
    "import matplotlib.pyplot as plt\n",
    "import seaborn as sns\n",
    "from sklearn.linear_model import LinearRegression\n",
    "\n",
    "from ds_utils.db.connectors import PivotDW\n",
    "\n",
    "pd.set_option('display.float_format', lambda x: '%.4f' % x)\n",
    "pd.set_option('display.max_rows', 100)\n",
    "pd.set_option('display.min_rows', None)\n",
    "pd.set_option('display.max_columns', None)\n",
    "pd.set_option('display.expand_frame_repr', True)\n",
    "\n",
    "# pd.set_option('precision', 2)\n",
    "\n",
    "plt.rcParams['figure.facecolor'] = 'white'\n",
    "plt.rcParams['axes.facecolor'] = 'white'\n",
    "plt.style.use('fivethirtyeight')\n",
    "\n",
    "\n",
    "# pd.option_context('display.max_rows', None, 'display.max_columns', None)\n",
    "\n",
    "print(plt.style.available)"
   ]
  },
  {
   "cell_type": "code",
   "execution_count": 6,
   "metadata": {},
   "outputs": [
    {
     "name": "stderr",
     "output_type": "stream",
     "text": [
      "INFO:root:query: SELECT date_part(MONTH, datetime_created)::INT AS sold_month... executed in 9.52 seconds\n"
     ]
    },
    {
     "name": "stdout",
     "output_type": "stream",
     "text": [
      "49\n"
     ]
    },
    {
     "data": {
      "text/html": [
       "<div>\n",
       "<style scoped>\n",
       "    .dataframe tbody tr th:only-of-type {\n",
       "        vertical-align: middle;\n",
       "    }\n",
       "\n",
       "    .dataframe tbody tr th {\n",
       "        vertical-align: top;\n",
       "    }\n",
       "\n",
       "    .dataframe thead th {\n",
       "        text-align: right;\n",
       "    }\n",
       "</style>\n",
       "<table border=\"1\" class=\"dataframe\">\n",
       "  <thead>\n",
       "    <tr style=\"text-align: right;\">\n",
       "      <th></th>\n",
       "      <th>sold_month</th>\n",
       "      <th>plan_group</th>\n",
       "      <th>policies</th>\n",
       "    </tr>\n",
       "  </thead>\n",
       "  <tbody>\n",
       "    <tr>\n",
       "      <th>0</th>\n",
       "      <td>10</td>\n",
       "      <td>180</td>\n",
       "      <td>1153</td>\n",
       "    </tr>\n",
       "    <tr>\n",
       "      <th>1</th>\n",
       "      <td>11</td>\n",
       "      <td>364+</td>\n",
       "      <td>532</td>\n",
       "    </tr>\n",
       "    <tr>\n",
       "      <th>2</th>\n",
       "      <td>5</td>\n",
       "      <td>364+</td>\n",
       "      <td>160</td>\n",
       "    </tr>\n",
       "    <tr>\n",
       "      <th>3</th>\n",
       "      <td>6</td>\n",
       "      <td>364+</td>\n",
       "      <td>157</td>\n",
       "    </tr>\n",
       "    <tr>\n",
       "      <th>4</th>\n",
       "      <td>9</td>\n",
       "      <td>364+</td>\n",
       "      <td>190</td>\n",
       "    </tr>\n",
       "  </tbody>\n",
       "</table>\n",
       "</div>"
      ],
      "text/plain": [
       "   sold_month plan_group  policies\n",
       "0          10        180      1153\n",
       "1          11       364+       532\n",
       "2           5       364+       160\n",
       "3           6       364+       157\n",
       "4           9       364+       190"
      ]
     },
     "execution_count": 6,
     "metadata": {},
     "output_type": "execute_result"
    }
   ],
   "source": [
    "# This is a query on a materialized view.  Refresh once a day.\n",
    "refresh_view = False\n",
    "\n",
    "stm_query = \"\"\"\n",
    "    SELECT\n",
    "        date_part(MONTH, datetime_created)::INT AS sold_month,\n",
    "        CASE \n",
    "            WHEN duration_sold < 135 THEN '90'\n",
    "            WHEN duration_sold BETWEEN 135 AND 264 THEN '180'\n",
    "            WHEN duration_sold BETWEEN 265 AND 364 THEN '364'\n",
    "            WHEN duration_sold > 364 THEN '364+'\n",
    "            ELSE null END AS plan_group,\n",
    "        count(1) AS policies\n",
    "    FROM tracking.app_premium_revised\n",
    "    WHERE date_part(YEAR, datetime_created)::INT = 2020\n",
    "        AND product_type = 'STM'\n",
    "    GROUP BY 1,2\n",
    "    ;\n",
    "\"\"\"\n",
    "\n",
    "with PivotDW() as db_context:\n",
    "\n",
    "        \n",
    "    df = db_context.to_df(stm_query, parse_dates='sold_date')\n",
    "\n",
    "\n",
    "print(len(df))\n",
    "df.head()\n"
   ]
  },
  {
   "cell_type": "code",
   "execution_count": 33,
   "metadata": {},
   "outputs": [
    {
     "data": {
      "text/plain": [
       "<AxesSubplot:xlabel='sold_month'>"
      ]
     },
     "execution_count": 33,
     "metadata": {},
     "output_type": "execute_result"
    },
    {
     "data": {
      "image/png": "[encoded data removed]",
      "text/plain": [
       "<Figure size 1440x720 with 1 Axes>"
      ]
     },
     "metadata": {},
     "output_type": "display_data"
    }
   ],
   "source": [
    "slice_df = df[df['plan_group'].isin(['90','180','364'])]\n",
    "\n",
    "\n",
    "group_df = slice_df.pivot_table(index='sold_month', columns='plan_group', values='policies')\n",
    "month_df = slice_df.groupby('sold_month')[['policies']].sum()\n",
    "month_df = month_df.reset_index().copy().rename(columns={'policies': 'month_total'})\n",
    "combined_df = slice_df.merge(month_df, how='inner', on='sold_month')\n",
    "\n",
    "combined_df['policy_share'] = combined_df['policies'] / combined_df['month_total']\n",
    "\n",
    "combined_df.pivot_table(index='sold_month', columns='plan_group', values='policy_share').plot\\\n",
    "    .bar(stacked=True, figsize=(20,10))"
   ]
  },
  {
   "cell_type": "code",
   "execution_count": null,
   "metadata": {},
   "outputs": [],
   "source": []
  }
 ],
 "metadata": {
  "kernelspec": {
   "display_name": "Python 3",
   "language": "python",
   "name": "python3"
  },
  "language_info": {
   "codemirror_mode": {
    "name": "ipython",
    "version": 3
   },
   "file_extension": ".py",
   "mimetype": "text/x-python",
   "name": "python",
   "nbconvert_exporter": "python",
   "pygments_lexer": "ipython3",
   "version": "3.8.5"
  }
 },
 "nbformat": 4,
 "nbformat_minor": 4
}
