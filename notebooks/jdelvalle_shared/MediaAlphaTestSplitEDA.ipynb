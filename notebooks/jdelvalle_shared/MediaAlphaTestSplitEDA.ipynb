{
 "cells": [
  {
   "cell_type": "code",
   "execution_count": 1,
   "metadata": {},
   "outputs": [],
   "source": [
    "import sys\n",
    "sys.path.insert(0, \"/Users/jdelvalle/git/adtech\")\n",
    "sys.path.insert(0, \"/Users/jdelvalle/git/adtech/models/utils\")"
   ]
  },
  {
   "cell_type": "code",
   "execution_count": 2,
   "metadata": {},
   "outputs": [],
   "source": [
    "import matplotlib.pyplot as plt\n",
    "import pandas as pd\n",
    "import numpy as np\n",
    "import datetime\n",
    "\n",
    "from scipy.stats import ttest_ind\n",
    "from scipy.stats import beta\n",
    "\n",
    "from math import ceil\n",
    "from ds_utils.db.connectors import HealthcareDW\n",
    "from time_of_day import calculate_bag_rps\n",
    "\n",
    "from sklearn.preprocessing import StandardScaler, MaxAbsScaler\n",
    "\n",
    "import seaborn as sns"
   ]
  },
  {
   "cell_type": "code",
   "execution_count": 3,
   "metadata": {},
   "outputs": [],
   "source": [
    "query = \"\"\"\n",
    "select\n",
    "    r.session_id,\n",
    "    r.session_creation_date as date,\n",
    "    r.product,\n",
    "    r.zipcode,\n",
    "    l.subdivision_1_iso_code  as state_code,\n",
    "    l.metro_code::varchar || l.subdivision_1_iso_code AS dma_state,\n",
    "    case when r.revenue > 0 then 1 else 0 END AS has_conversion,\n",
    "    coalesce(r.revenue, 0.0) AS revenue\n",
    "from (\n",
    "      select\n",
    "             session_id,\n",
    "             product,\n",
    "             split_part(split_part(landing_page, 'zipcode=',2), '&', 1) as zipcode,\n",
    "             revenue,\n",
    "             session_creation_date\n",
    "      from tron.session_revenue\n",
    "      where session_creation_date::DATE BETWEEN current_date - 121 AND current_date - 1\n",
    "      and lower(traffic_source) = 'mediaalpha'\n",
    "      and domain = 'HC.COM'\n",
    "      and product in ('HEALTH', 'MEDICARE')\n",
    "      and zipcode != ''\n",
    "      ) AS r\n",
    "left join (\n",
    "    select maxmind_id, postal_code\n",
    "    from data_science.maxmind_ipv4_geo_blocks\n",
    "    group by 1,2\n",
    ") as b\n",
    "    on b.postal_code = r.zipcode\n",
    "left join data_science.maxmind_geo_locations l\n",
    "    on b.maxmind_id = l.maxmind_id\n",
    "where l.country_iso_code = 'US'\n",
    "and l.subdivision_1_iso_code != ''\n",
    "and l.metro_code != '';\n",
    "\"\"\""
   ]
  },
  {
   "cell_type": "code",
   "execution_count": 4,
   "metadata": {},
   "outputs": [
    {
     "name": "stderr",
     "output_type": "stream",
     "text": [
      "INFO:root:query: select r.session_id, r.session_creation_date as date, r.prod... executed in 7.0 seconds\n"
     ]
    }
   ],
   "source": [
    "with HealthcareDW() as db_context:\n",
    "    df = db_context.to_df(query)"
   ]
  },
  {
   "cell_type": "code",
   "execution_count": 5,
   "metadata": {},
   "outputs": [
    {
     "data": {
      "text/html": [
       "<div>\n",
       "<style scoped>\n",
       "    .dataframe tbody tr th:only-of-type {\n",
       "        vertical-align: middle;\n",
       "    }\n",
       "\n",
       "    .dataframe tbody tr th {\n",
       "        vertical-align: top;\n",
       "    }\n",
       "\n",
       "    .dataframe thead th {\n",
       "        text-align: right;\n",
       "    }\n",
       "</style>\n",
       "<table border=\"1\" class=\"dataframe\">\n",
       "  <thead>\n",
       "    <tr style=\"text-align: right;\">\n",
       "      <th></th>\n",
       "      <th>session_id</th>\n",
       "      <th>date</th>\n",
       "      <th>product</th>\n",
       "      <th>zipcode</th>\n",
       "      <th>state_code</th>\n",
       "      <th>dma_state</th>\n",
       "      <th>has_conversion</th>\n",
       "      <th>revenue</th>\n",
       "    </tr>\n",
       "  </thead>\n",
       "  <tbody>\n",
       "    <tr>\n",
       "      <th>0</th>\n",
       "      <td>20210423162412.60f72c162cb8</td>\n",
       "      <td>2021-04-23 12:24:12</td>\n",
       "      <td>MEDICARE</td>\n",
       "      <td>07094</td>\n",
       "      <td>NJ</td>\n",
       "      <td>501NJ</td>\n",
       "      <td>0</td>\n",
       "      <td>0.0</td>\n",
       "    </tr>\n",
       "    <tr>\n",
       "      <th>1</th>\n",
       "      <td>20210102161135.1326b90d1309</td>\n",
       "      <td>2021-01-02 11:11:35</td>\n",
       "      <td>MEDICARE</td>\n",
       "      <td>07094</td>\n",
       "      <td>NJ</td>\n",
       "      <td>501NJ</td>\n",
       "      <td>0</td>\n",
       "      <td>0.0</td>\n",
       "    </tr>\n",
       "    <tr>\n",
       "      <th>2</th>\n",
       "      <td>20201231154900.f5db43b76d60</td>\n",
       "      <td>2020-12-31 10:49:00</td>\n",
       "      <td>HEALTH</td>\n",
       "      <td>07094</td>\n",
       "      <td>NJ</td>\n",
       "      <td>501NJ</td>\n",
       "      <td>0</td>\n",
       "      <td>0.0</td>\n",
       "    </tr>\n",
       "    <tr>\n",
       "      <th>3</th>\n",
       "      <td>20210115183804.68d1927f56e6</td>\n",
       "      <td>2021-01-15 13:38:04</td>\n",
       "      <td>MEDICARE</td>\n",
       "      <td>07094</td>\n",
       "      <td>NJ</td>\n",
       "      <td>501NJ</td>\n",
       "      <td>0</td>\n",
       "      <td>0.0</td>\n",
       "    </tr>\n",
       "    <tr>\n",
       "      <th>4</th>\n",
       "      <td>20210115183804.68d1927f56e6</td>\n",
       "      <td>2021-01-15 13:38:04</td>\n",
       "      <td>MEDICARE</td>\n",
       "      <td>07094</td>\n",
       "      <td>NJ</td>\n",
       "      <td>501NJ</td>\n",
       "      <td>1</td>\n",
       "      <td>3.0</td>\n",
       "    </tr>\n",
       "  </tbody>\n",
       "</table>\n",
       "</div>"
      ],
      "text/plain": [
       "                    session_id                date   product zipcode  \\\n",
       "0  20210423162412.60f72c162cb8 2021-04-23 12:24:12  MEDICARE   07094   \n",
       "1  20210102161135.1326b90d1309 2021-01-02 11:11:35  MEDICARE   07094   \n",
       "2  20201231154900.f5db43b76d60 2020-12-31 10:49:00    HEALTH   07094   \n",
       "3  20210115183804.68d1927f56e6 2021-01-15 13:38:04  MEDICARE   07094   \n",
       "4  20210115183804.68d1927f56e6 2021-01-15 13:38:04  MEDICARE   07094   \n",
       "\n",
       "  state_code dma_state  has_conversion  revenue  \n",
       "0         NJ     501NJ               0      0.0  \n",
       "1         NJ     501NJ               0      0.0  \n",
       "2         NJ     501NJ               0      0.0  \n",
       "3         NJ     501NJ               0      0.0  \n",
       "4         NJ     501NJ               1      3.0  "
      ]
     },
     "execution_count": 5,
     "metadata": {},
     "output_type": "execute_result"
    }
   ],
   "source": [
    "df.head(5)"
   ]
  },
  {
   "cell_type": "code",
   "execution_count": 6,
   "metadata": {},
   "outputs": [],
   "source": [
    "og_df = df.copy()"
   ]
  },
  {
   "cell_type": "code",
   "execution_count": 7,
   "metadata": {},
   "outputs": [
    {
     "data": {
      "text/plain": [
       "(74530, 98663)"
      ]
     },
     "execution_count": 7,
     "metadata": {},
     "output_type": "execute_result"
    }
   ],
   "source": [
    "len(df['session_id'].unique()), len(df)"
   ]
  },
  {
   "cell_type": "code",
   "execution_count": 8,
   "metadata": {},
   "outputs": [],
   "source": [
    "counts_df = df.groupby(by=['session_id', 'product', 'zipcode', 'state_code', 'dma_state']).size().reset_index(name='sessions')\n",
    "quant_df = df.groupby(by=['session_id', 'product', 'zipcode', 'state_code', 'dma_state']).agg({'date': 'min', 'revenue': 'sum', 'has_conversion': 'max'}).reset_index()\n",
    "df = counts_df.merge(quant_df, how='left', on=['session_id', 'product', 'zipcode', 'state_code', 'dma_state'])"
   ]
  },
  {
   "cell_type": "code",
   "execution_count": 9,
   "metadata": {},
   "outputs": [
    {
     "data": {
      "text/plain": [
       "(0, 74693, 98663)"
      ]
     },
     "execution_count": 9,
     "metadata": {},
     "output_type": "execute_result"
    }
   ],
   "source": [
    "sum(df['zipcode'] == ''), len(df), df['sessions'].sum()"
   ]
  },
  {
   "cell_type": "markdown",
   "metadata": {},
   "source": [
    "**NOTE**: Get rid of most duplicate rows because of zip codes being associated with more than one city."
   ]
  },
  {
   "cell_type": "code",
   "execution_count": 10,
   "metadata": {},
   "outputs": [
    {
     "data": {
      "text/html": [
       "<div>\n",
       "<style scoped>\n",
       "    .dataframe tbody tr th:only-of-type {\n",
       "        vertical-align: middle;\n",
       "    }\n",
       "\n",
       "    .dataframe tbody tr th {\n",
       "        vertical-align: top;\n",
       "    }\n",
       "\n",
       "    .dataframe thead th {\n",
       "        text-align: right;\n",
       "    }\n",
       "</style>\n",
       "<table border=\"1\" class=\"dataframe\">\n",
       "  <thead>\n",
       "    <tr style=\"text-align: right;\">\n",
       "      <th></th>\n",
       "      <th>session_id</th>\n",
       "      <th>product</th>\n",
       "      <th>zipcode</th>\n",
       "      <th>state_code</th>\n",
       "      <th>dma_state</th>\n",
       "      <th>sessions</th>\n",
       "      <th>date</th>\n",
       "      <th>revenue</th>\n",
       "      <th>has_conversion</th>\n",
       "    </tr>\n",
       "  </thead>\n",
       "  <tbody>\n",
       "    <tr>\n",
       "      <th>853</th>\n",
       "      <td>20201229190202.dcaf98146a84</td>\n",
       "      <td>HEALTH</td>\n",
       "      <td>06082</td>\n",
       "      <td>CT</td>\n",
       "      <td>533CT</td>\n",
       "      <td>1</td>\n",
       "      <td>2020-12-29 14:02:02</td>\n",
       "      <td>0.00</td>\n",
       "      <td>0</td>\n",
       "    </tr>\n",
       "    <tr>\n",
       "      <th>854</th>\n",
       "      <td>20201229190202.dcaf98146a84</td>\n",
       "      <td>HEALTH</td>\n",
       "      <td>06082</td>\n",
       "      <td>MA</td>\n",
       "      <td>543MA</td>\n",
       "      <td>1</td>\n",
       "      <td>2020-12-29 14:02:02</td>\n",
       "      <td>0.00</td>\n",
       "      <td>0</td>\n",
       "    </tr>\n",
       "    <tr>\n",
       "      <th>1257</th>\n",
       "      <td>20201230003509.f3ba205c0c3e</td>\n",
       "      <td>MEDICARE</td>\n",
       "      <td>33442</td>\n",
       "      <td>FL</td>\n",
       "      <td>528FL</td>\n",
       "      <td>2</td>\n",
       "      <td>2020-12-29 19:35:09</td>\n",
       "      <td>7.13</td>\n",
       "      <td>1</td>\n",
       "    </tr>\n",
       "    <tr>\n",
       "      <th>1258</th>\n",
       "      <td>20201230003509.f3ba205c0c3e</td>\n",
       "      <td>MEDICARE</td>\n",
       "      <td>33442</td>\n",
       "      <td>FL</td>\n",
       "      <td>548FL</td>\n",
       "      <td>2</td>\n",
       "      <td>2020-12-29 19:35:09</td>\n",
       "      <td>7.13</td>\n",
       "      <td>1</td>\n",
       "    </tr>\n",
       "    <tr>\n",
       "      <th>1757</th>\n",
       "      <td>20201230143327.64f912575935</td>\n",
       "      <td>HEALTH</td>\n",
       "      <td>30701</td>\n",
       "      <td>GA</td>\n",
       "      <td>524GA</td>\n",
       "      <td>2</td>\n",
       "      <td>2020-12-30 09:33:27</td>\n",
       "      <td>8.12</td>\n",
       "      <td>1</td>\n",
       "    </tr>\n",
       "    <tr>\n",
       "      <th>...</th>\n",
       "      <td>...</td>\n",
       "      <td>...</td>\n",
       "      <td>...</td>\n",
       "      <td>...</td>\n",
       "      <td>...</td>\n",
       "      <td>...</td>\n",
       "      <td>...</td>\n",
       "      <td>...</td>\n",
       "      <td>...</td>\n",
       "    </tr>\n",
       "    <tr>\n",
       "      <th>73612</th>\n",
       "      <td>20210427132852.8213fe6d0154</td>\n",
       "      <td>HEALTH</td>\n",
       "      <td>20147</td>\n",
       "      <td>VA</td>\n",
       "      <td>511VA</td>\n",
       "      <td>2</td>\n",
       "      <td>2021-04-27 09:28:52</td>\n",
       "      <td>0.00</td>\n",
       "      <td>0</td>\n",
       "    </tr>\n",
       "    <tr>\n",
       "      <th>74160</th>\n",
       "      <td>20210427154640.1d08c5e0b729</td>\n",
       "      <td>MEDICARE</td>\n",
       "      <td>78611</td>\n",
       "      <td>TX</td>\n",
       "      <td>625TX</td>\n",
       "      <td>1</td>\n",
       "      <td>2021-04-27 11:46:40</td>\n",
       "      <td>0.00</td>\n",
       "      <td>0</td>\n",
       "    </tr>\n",
       "    <tr>\n",
       "      <th>74161</th>\n",
       "      <td>20210427154640.1d08c5e0b729</td>\n",
       "      <td>MEDICARE</td>\n",
       "      <td>78611</td>\n",
       "      <td>TX</td>\n",
       "      <td>635TX</td>\n",
       "      <td>1</td>\n",
       "      <td>2021-04-27 11:46:40</td>\n",
       "      <td>0.00</td>\n",
       "      <td>0</td>\n",
       "    </tr>\n",
       "    <tr>\n",
       "      <th>74560</th>\n",
       "      <td>20210427184033.22a188dcab58</td>\n",
       "      <td>HEALTH</td>\n",
       "      <td>46254</td>\n",
       "      <td>IN</td>\n",
       "      <td>527IN</td>\n",
       "      <td>1</td>\n",
       "      <td>2021-04-27 14:40:33</td>\n",
       "      <td>45.00</td>\n",
       "      <td>1</td>\n",
       "    </tr>\n",
       "    <tr>\n",
       "      <th>74561</th>\n",
       "      <td>20210427184033.22a188dcab58</td>\n",
       "      <td>MEDICARE</td>\n",
       "      <td>46254</td>\n",
       "      <td>IN</td>\n",
       "      <td>527IN</td>\n",
       "      <td>1</td>\n",
       "      <td>2021-04-27 14:40:33</td>\n",
       "      <td>15.00</td>\n",
       "      <td>1</td>\n",
       "    </tr>\n",
       "  </tbody>\n",
       "</table>\n",
       "<p>326 rows × 9 columns</p>\n",
       "</div>"
      ],
      "text/plain": [
       "                        session_id   product zipcode state_code dma_state  \\\n",
       "853    20201229190202.dcaf98146a84    HEALTH   06082         CT     533CT   \n",
       "854    20201229190202.dcaf98146a84    HEALTH   06082         MA     543MA   \n",
       "1257   20201230003509.f3ba205c0c3e  MEDICARE   33442         FL     528FL   \n",
       "1258   20201230003509.f3ba205c0c3e  MEDICARE   33442         FL     548FL   \n",
       "1757   20201230143327.64f912575935    HEALTH   30701         GA     524GA   \n",
       "...                            ...       ...     ...        ...       ...   \n",
       "73612  20210427132852.8213fe6d0154    HEALTH   20147         VA     511VA   \n",
       "74160  20210427154640.1d08c5e0b729  MEDICARE   78611         TX     625TX   \n",
       "74161  20210427154640.1d08c5e0b729  MEDICARE   78611         TX     635TX   \n",
       "74560  20210427184033.22a188dcab58    HEALTH   46254         IN     527IN   \n",
       "74561  20210427184033.22a188dcab58  MEDICARE   46254         IN     527IN   \n",
       "\n",
       "       sessions                date  revenue  has_conversion  \n",
       "853           1 2020-12-29 14:02:02     0.00               0  \n",
       "854           1 2020-12-29 14:02:02     0.00               0  \n",
       "1257          2 2020-12-29 19:35:09     7.13               1  \n",
       "1258          2 2020-12-29 19:35:09     7.13               1  \n",
       "1757          2 2020-12-30 09:33:27     8.12               1  \n",
       "...         ...                 ...      ...             ...  \n",
       "73612         2 2021-04-27 09:28:52     0.00               0  \n",
       "74160         1 2021-04-27 11:46:40     0.00               0  \n",
       "74161         1 2021-04-27 11:46:40     0.00               0  \n",
       "74560         1 2021-04-27 14:40:33    45.00               1  \n",
       "74561         1 2021-04-27 14:40:33    15.00               1  \n",
       "\n",
       "[326 rows x 9 columns]"
      ]
     },
     "execution_count": 10,
     "metadata": {},
     "output_type": "execute_result"
    }
   ],
   "source": [
    "df[df['session_id'].isin((df['session_id'].value_counts() > 1).index[(df['session_id'].value_counts() > 1)])].sort_values(by='session_id')"
   ]
  },
  {
   "cell_type": "code",
   "execution_count": 11,
   "metadata": {},
   "outputs": [],
   "source": [
    "ma_df = df.groupby(by=['session_id', 'product', 'zipcode', 'state_code', 'dma_state', 'date']).agg({'has_conversion':'max', 'revenue':'max', 'sessions': 'max'}).reset_index()"
   ]
  },
  {
   "cell_type": "markdown",
   "metadata": {},
   "source": [
    "We still have some duplicates because of zip codes that are associated with more than one DMA."
   ]
  },
  {
   "cell_type": "code",
   "execution_count": 12,
   "metadata": {},
   "outputs": [
    {
     "data": {
      "text/plain": [
       "20210107163854.212a732a2644    2\n",
       "20210102155213.7bbc0cdb0b52    2\n",
       "20210221041304.2e717d909464    2\n",
       "20210104211102.c7fc6961a6c6    2\n",
       "20210106195938.15a077e63003    2\n",
       "                              ..\n",
       "20210114175419.837fe8eebdcd    1\n",
       "20201230151150.f8fa6f137413    1\n",
       "20210308191731.19a5f12bc73c    1\n",
       "20210224191932.2b227efd5e8c    1\n",
       "20210331162257.bdd6d60453a8    1\n",
       "Name: session_id, Length: 74530, dtype: int64"
      ]
     },
     "execution_count": 12,
     "metadata": {},
     "output_type": "execute_result"
    }
   ],
   "source": [
    "ma_df['session_id'].value_counts()"
   ]
  },
  {
   "cell_type": "markdown",
   "metadata": {},
   "source": [
    "Simple heuristic to get rid of the final (around 10 duplicate rows for 30 day ranges):"
   ]
  },
  {
   "cell_type": "code",
   "execution_count": 13,
   "metadata": {},
   "outputs": [
    {
     "data": {
      "text/html": [
       "<div>\n",
       "<style scoped>\n",
       "    .dataframe tbody tr th:only-of-type {\n",
       "        vertical-align: middle;\n",
       "    }\n",
       "\n",
       "    .dataframe tbody tr th {\n",
       "        vertical-align: top;\n",
       "    }\n",
       "\n",
       "    .dataframe thead th {\n",
       "        text-align: right;\n",
       "    }\n",
       "</style>\n",
       "<table border=\"1\" class=\"dataframe\">\n",
       "  <thead>\n",
       "    <tr style=\"text-align: right;\">\n",
       "      <th></th>\n",
       "      <th>session_id</th>\n",
       "      <th>product</th>\n",
       "      <th>zipcode</th>\n",
       "      <th>state_code</th>\n",
       "      <th>dma_state</th>\n",
       "      <th>date</th>\n",
       "      <th>has_conversion</th>\n",
       "      <th>revenue</th>\n",
       "      <th>sessions</th>\n",
       "    </tr>\n",
       "  </thead>\n",
       "  <tbody>\n",
       "    <tr>\n",
       "      <th>35394</th>\n",
       "      <td>20210210162016.04f87d919c67</td>\n",
       "      <td>HEALTH</td>\n",
       "      <td>20147</td>\n",
       "      <td>DC</td>\n",
       "      <td>511DC</td>\n",
       "      <td>2021-02-10 11:20:16</td>\n",
       "      <td>0</td>\n",
       "      <td>0.0</td>\n",
       "      <td>1</td>\n",
       "    </tr>\n",
       "    <tr>\n",
       "      <th>35395</th>\n",
       "      <td>20210210162016.04f87d919c67</td>\n",
       "      <td>HEALTH</td>\n",
       "      <td>20147</td>\n",
       "      <td>VA</td>\n",
       "      <td>511VA</td>\n",
       "      <td>2021-02-10 11:20:16</td>\n",
       "      <td>0</td>\n",
       "      <td>0.0</td>\n",
       "      <td>2</td>\n",
       "    </tr>\n",
       "  </tbody>\n",
       "</table>\n",
       "</div>"
      ],
      "text/plain": [
       "                        session_id product zipcode state_code dma_state  \\\n",
       "35394  20210210162016.04f87d919c67  HEALTH   20147         DC     511DC   \n",
       "35395  20210210162016.04f87d919c67  HEALTH   20147         VA     511VA   \n",
       "\n",
       "                     date  has_conversion  revenue  sessions  \n",
       "35394 2021-02-10 11:20:16               0      0.0         1  \n",
       "35395 2021-02-10 11:20:16               0      0.0         2  "
      ]
     },
     "execution_count": 13,
     "metadata": {},
     "output_type": "execute_result"
    }
   ],
   "source": [
    "ma_df.query('session_id == \"20210210162016.04f87d919c67\"')"
   ]
  },
  {
   "cell_type": "code",
   "execution_count": 14,
   "metadata": {},
   "outputs": [],
   "source": [
    "ma_df = ma_df.groupby(by=['session_id', 'product', 'zipcode', 'date']).agg({'state_code': 'min', 'dma_state': 'min', 'has_conversion':'max', 'revenue':'sum', 'sessions': 'max'}).reset_index()"
   ]
  },
  {
   "cell_type": "code",
   "execution_count": 15,
   "metadata": {},
   "outputs": [],
   "source": [
    "ma_df.rename(columns={'sessions': 'events'}, inplace=True)"
   ]
  },
  {
   "cell_type": "code",
   "execution_count": 16,
   "metadata": {},
   "outputs": [
    {
     "data": {
      "text/html": [
       "<div>\n",
       "<style scoped>\n",
       "    .dataframe tbody tr th:only-of-type {\n",
       "        vertical-align: middle;\n",
       "    }\n",
       "\n",
       "    .dataframe tbody tr th {\n",
       "        vertical-align: top;\n",
       "    }\n",
       "\n",
       "    .dataframe thead th {\n",
       "        text-align: right;\n",
       "    }\n",
       "</style>\n",
       "<table border=\"1\" class=\"dataframe\">\n",
       "  <thead>\n",
       "    <tr style=\"text-align: right;\">\n",
       "      <th></th>\n",
       "      <th>session_id</th>\n",
       "      <th>product</th>\n",
       "      <th>zipcode</th>\n",
       "      <th>date</th>\n",
       "      <th>state_code</th>\n",
       "      <th>dma_state</th>\n",
       "      <th>has_conversion</th>\n",
       "      <th>revenue</th>\n",
       "      <th>events</th>\n",
       "    </tr>\n",
       "  </thead>\n",
       "  <tbody>\n",
       "    <tr>\n",
       "      <th>0</th>\n",
       "      <td>20201229050036.2761dbf3d52c</td>\n",
       "      <td>MEDICARE</td>\n",
       "      <td>65588</td>\n",
       "      <td>2020-12-29 00:00:36</td>\n",
       "      <td>MO</td>\n",
       "      <td>619MO</td>\n",
       "      <td>0</td>\n",
       "      <td>0.00</td>\n",
       "      <td>1</td>\n",
       "    </tr>\n",
       "    <tr>\n",
       "      <th>1</th>\n",
       "      <td>20201229050104.de9302a353b6</td>\n",
       "      <td>HEALTH</td>\n",
       "      <td>45424</td>\n",
       "      <td>2020-12-29 00:01:04</td>\n",
       "      <td>OH</td>\n",
       "      <td>542OH</td>\n",
       "      <td>0</td>\n",
       "      <td>0.00</td>\n",
       "      <td>2</td>\n",
       "    </tr>\n",
       "    <tr>\n",
       "      <th>2</th>\n",
       "      <td>20201229050127.c86ee0cfa1f6</td>\n",
       "      <td>HEALTH</td>\n",
       "      <td>56031</td>\n",
       "      <td>2020-12-29 00:01:27</td>\n",
       "      <td>MN</td>\n",
       "      <td>737MN</td>\n",
       "      <td>1</td>\n",
       "      <td>2.19</td>\n",
       "      <td>1</td>\n",
       "    </tr>\n",
       "    <tr>\n",
       "      <th>3</th>\n",
       "      <td>20201229050456.30fb64c200c8</td>\n",
       "      <td>HEALTH</td>\n",
       "      <td>30044</td>\n",
       "      <td>2020-12-29 00:04:56</td>\n",
       "      <td>GA</td>\n",
       "      <td>524GA</td>\n",
       "      <td>0</td>\n",
       "      <td>0.00</td>\n",
       "      <td>1</td>\n",
       "    </tr>\n",
       "    <tr>\n",
       "      <th>4</th>\n",
       "      <td>20201229050647.f71648743483</td>\n",
       "      <td>HEALTH</td>\n",
       "      <td>06820</td>\n",
       "      <td>2020-12-29 00:06:47</td>\n",
       "      <td>CT</td>\n",
       "      <td>501CT</td>\n",
       "      <td>1</td>\n",
       "      <td>1.70</td>\n",
       "      <td>1</td>\n",
       "    </tr>\n",
       "  </tbody>\n",
       "</table>\n",
       "</div>"
      ],
      "text/plain": [
       "                    session_id   product zipcode                date  \\\n",
       "0  20201229050036.2761dbf3d52c  MEDICARE   65588 2020-12-29 00:00:36   \n",
       "1  20201229050104.de9302a353b6    HEALTH   45424 2020-12-29 00:01:04   \n",
       "2  20201229050127.c86ee0cfa1f6    HEALTH   56031 2020-12-29 00:01:27   \n",
       "3  20201229050456.30fb64c200c8    HEALTH   30044 2020-12-29 00:04:56   \n",
       "4  20201229050647.f71648743483    HEALTH   06820 2020-12-29 00:06:47   \n",
       "\n",
       "  state_code dma_state  has_conversion  revenue  events  \n",
       "0         MO     619MO               0     0.00       1  \n",
       "1         OH     542OH               0     0.00       2  \n",
       "2         MN     737MN               1     2.19       1  \n",
       "3         GA     524GA               0     0.00       1  \n",
       "4         CT     501CT               1     1.70       1  "
      ]
     },
     "execution_count": 16,
     "metadata": {},
     "output_type": "execute_result"
    }
   ],
   "source": [
    "ma_df.head(5)"
   ]
  },
  {
   "cell_type": "code",
   "execution_count": 17,
   "metadata": {},
   "outputs": [
    {
     "data": {
      "text/plain": [
       "(23141, 74547)"
      ]
     },
     "execution_count": 17,
     "metadata": {},
     "output_type": "execute_result"
    }
   ],
   "source": [
    "ma_df['has_conversion'].sum(), len(ma_df)"
   ]
  },
  {
   "cell_type": "code",
   "execution_count": 18,
   "metadata": {},
   "outputs": [],
   "source": [
    "def calc_location_stats(df, segmentation, min_conversions=0):\n",
    "    sessions_df = df.groupby(by=segmentation).size().reset_index(name='sessions').copy()\n",
    "\n",
    "    metrics_df = df.groupby(by=segmentation)[['has_conversion', 'revenue']].sum()\\\n",
    "        .reset_index().rename(columns={'has_conversion': 'conversions'})\n",
    "\n",
    "    df = sessions_df.merge(metrics_df, how='left', on=segmentation)\n",
    "    df = df[df['conversions'] >= min_conversions]\n",
    "    df.reset_index(drop=True, inplace=True)\n",
    "    \n",
    "    # Stop weighing high traffic as much\n",
    "    df['sessions_log'] = np.log10(df['sessions'])\n",
    "    df['revenue_log'] = np.log10(df['revenue'])\n",
    "    \n",
    "    # Calculate raw and bayesian version of stats\n",
    "    df['rps'] = df['revenue'] / df['sessions']\n",
    "    # Very hacky way of getting the rps, as revenue is usually higher than sessions\n",
    "    df['rps_beta'] = 1 / beta.ppf(0.95, df['sessions'] + 1, df['revenue'] - df['sessions'] + 1)\n",
    "    df.loc[df['rps_beta'].isna(), 'rps_beta'] = df[df['rps_beta'].isna()]['rps']\n",
    "    \n",
    "    df['conversion_rate'] = df['conversions'] / df['sessions']\n",
    "    df['conversion_rate_beta'] = beta.ppf(0.05, df['conversions'] + 1, df['sessions'] - df['conversions'] + 1)\n",
    "    \n",
    "    df['rpl'] = df['rps'] * df['conversion_rate']\n",
    "    df['rpl_beta'] = df['rps_beta'] * df['conversion_rate_beta']\n",
    "    df.rename(columns={segmentation: 'region'}, inplace=True)\n",
    "    \n",
    "    return df"
   ]
  },
  {
   "cell_type": "code",
   "execution_count": 19,
   "metadata": {},
   "outputs": [],
   "source": [
    "og_ma_df = ma_df.copy()"
   ]
  },
  {
   "cell_type": "code",
   "execution_count": 20,
   "metadata": {},
   "outputs": [],
   "source": [
    "NOW = datetime.datetime.now()\n",
    "DAY = datetime.timedelta(days=1)\n",
    "end_date = NOW - 61*DAY"
   ]
  },
  {
   "cell_type": "code",
   "execution_count": 21,
   "metadata": {},
   "outputs": [],
   "source": [
    "ma_df_test = ma_df[ma_df['date'] > end_date]"
   ]
  },
  {
   "cell_type": "code",
   "execution_count": 22,
   "metadata": {},
   "outputs": [],
   "source": [
    "ma_df = ma_df[ma_df['date'] <= end_date]"
   ]
  },
  {
   "cell_type": "markdown",
   "metadata": {},
   "source": [
    "# Split setup"
   ]
  },
  {
   "cell_type": "code",
   "execution_count": 23,
   "metadata": {},
   "outputs": [],
   "source": [
    "u65 = calculate_bag_rps(ma_df.query('product == \"HEALTH\"'), 'date', 'revenue')\n",
    "o65 = calculate_bag_rps(ma_df.query('product == \"MEDICARE\"'), 'date', 'revenue')"
   ]
  },
  {
   "cell_type": "code",
   "execution_count": 24,
   "metadata": {},
   "outputs": [],
   "source": [
    "SPLIT_REGION='state_code'\n",
    "MIN_C=30"
   ]
  },
  {
   "cell_type": "code",
   "execution_count": 25,
   "metadata": {},
   "outputs": [
    {
     "data": {
      "text/html": [
       "<div>\n",
       "<style scoped>\n",
       "    .dataframe tbody tr th:only-of-type {\n",
       "        vertical-align: middle;\n",
       "    }\n",
       "\n",
       "    .dataframe tbody tr th {\n",
       "        vertical-align: top;\n",
       "    }\n",
       "\n",
       "    .dataframe thead th {\n",
       "        text-align: right;\n",
       "    }\n",
       "</style>\n",
       "<table border=\"1\" class=\"dataframe\">\n",
       "  <thead>\n",
       "    <tr style=\"text-align: right;\">\n",
       "      <th></th>\n",
       "      <th>region</th>\n",
       "      <th>sessions</th>\n",
       "      <th>conversions</th>\n",
       "      <th>revenue</th>\n",
       "      <th>sessions_log</th>\n",
       "      <th>revenue_log</th>\n",
       "      <th>rps</th>\n",
       "      <th>rps_beta</th>\n",
       "      <th>conversion_rate</th>\n",
       "      <th>conversion_rate_beta</th>\n",
       "      <th>rpl</th>\n",
       "      <th>rpl_beta</th>\n",
       "    </tr>\n",
       "  </thead>\n",
       "  <tbody>\n",
       "    <tr>\n",
       "      <th>4</th>\n",
       "      <td>803CA</td>\n",
       "      <td>5457</td>\n",
       "      <td>2203</td>\n",
       "      <td>25907.853588</td>\n",
       "      <td>3.736954</td>\n",
       "      <td>4.413431</td>\n",
       "      <td>4.747637</td>\n",
       "      <td>4.654780</td>\n",
       "      <td>0.403702</td>\n",
       "      <td>0.392835</td>\n",
       "      <td>1.916629</td>\n",
       "      <td>1.828560</td>\n",
       "    </tr>\n",
       "    <tr>\n",
       "      <th>6</th>\n",
       "      <td>807CA</td>\n",
       "      <td>2268</td>\n",
       "      <td>917</td>\n",
       "      <td>10092.482246</td>\n",
       "      <td>3.355643</td>\n",
       "      <td>4.003998</td>\n",
       "      <td>4.449948</td>\n",
       "      <td>4.317028</td>\n",
       "      <td>0.404321</td>\n",
       "      <td>0.387513</td>\n",
       "      <td>1.799207</td>\n",
       "      <td>1.672905</td>\n",
       "    </tr>\n",
       "    <tr>\n",
       "      <th>12</th>\n",
       "      <td>862CA</td>\n",
       "      <td>1407</td>\n",
       "      <td>605</td>\n",
       "      <td>6030.115630</td>\n",
       "      <td>3.148294</td>\n",
       "      <td>3.780326</td>\n",
       "      <td>4.285796</td>\n",
       "      <td>4.124984</td>\n",
       "      <td>0.429993</td>\n",
       "      <td>0.408461</td>\n",
       "      <td>1.842862</td>\n",
       "      <td>1.684894</td>\n",
       "    </tr>\n",
       "    <tr>\n",
       "      <th>9</th>\n",
       "      <td>825CA</td>\n",
       "      <td>1175</td>\n",
       "      <td>490</td>\n",
       "      <td>5716.877560</td>\n",
       "      <td>3.070038</td>\n",
       "      <td>3.757159</td>\n",
       "      <td>4.865428</td>\n",
       "      <td>4.662372</td>\n",
       "      <td>0.417021</td>\n",
       "      <td>0.393610</td>\n",
       "      <td>2.028987</td>\n",
       "      <td>1.835157</td>\n",
       "    </tr>\n",
       "    <tr>\n",
       "      <th>13</th>\n",
       "      <td>866CA</td>\n",
       "      <td>542</td>\n",
       "      <td>224</td>\n",
       "      <td>2172.535560</td>\n",
       "      <td>2.733999</td>\n",
       "      <td>3.336967</td>\n",
       "      <td>4.008368</td>\n",
       "      <td>3.772118</td>\n",
       "      <td>0.413284</td>\n",
       "      <td>0.379081</td>\n",
       "      <td>1.656595</td>\n",
       "      <td>1.429938</td>\n",
       "    </tr>\n",
       "    <tr>\n",
       "      <th>2</th>\n",
       "      <td>800CA</td>\n",
       "      <td>317</td>\n",
       "      <td>133</td>\n",
       "      <td>1506.066400</td>\n",
       "      <td>2.501059</td>\n",
       "      <td>3.177844</td>\n",
       "      <td>4.750998</td>\n",
       "      <td>4.379155</td>\n",
       "      <td>0.419558</td>\n",
       "      <td>0.374956</td>\n",
       "      <td>1.993321</td>\n",
       "      <td>1.641990</td>\n",
       "    </tr>\n",
       "    <tr>\n",
       "      <th>10</th>\n",
       "      <td>828CA</td>\n",
       "      <td>294</td>\n",
       "      <td>106</td>\n",
       "      <td>888.798000</td>\n",
       "      <td>2.468347</td>\n",
       "      <td>2.948803</td>\n",
       "      <td>3.023122</td>\n",
       "      <td>2.798752</td>\n",
       "      <td>0.360544</td>\n",
       "      <td>0.316160</td>\n",
       "      <td>1.089969</td>\n",
       "      <td>0.884854</td>\n",
       "    </tr>\n",
       "    <tr>\n",
       "      <th>11</th>\n",
       "      <td>855CA</td>\n",
       "      <td>223</td>\n",
       "      <td>83</td>\n",
       "      <td>558.548520</td>\n",
       "      <td>2.348305</td>\n",
       "      <td>2.747061</td>\n",
       "      <td>2.504702</td>\n",
       "      <td>2.305131</td>\n",
       "      <td>0.372197</td>\n",
       "      <td>0.321043</td>\n",
       "      <td>0.932243</td>\n",
       "      <td>0.740047</td>\n",
       "    </tr>\n",
       "  </tbody>\n",
       "</table>\n",
       "</div>"
      ],
      "text/plain": [
       "   region  sessions  conversions       revenue  sessions_log  revenue_log  \\\n",
       "4   803CA      5457         2203  25907.853588      3.736954     4.413431   \n",
       "6   807CA      2268          917  10092.482246      3.355643     4.003998   \n",
       "12  862CA      1407          605   6030.115630      3.148294     3.780326   \n",
       "9   825CA      1175          490   5716.877560      3.070038     3.757159   \n",
       "13  866CA       542          224   2172.535560      2.733999     3.336967   \n",
       "2   800CA       317          133   1506.066400      2.501059     3.177844   \n",
       "10  828CA       294          106    888.798000      2.468347     2.948803   \n",
       "11  855CA       223           83    558.548520      2.348305     2.747061   \n",
       "\n",
       "         rps  rps_beta  conversion_rate  conversion_rate_beta       rpl  \\\n",
       "4   4.747637  4.654780         0.403702              0.392835  1.916629   \n",
       "6   4.449948  4.317028         0.404321              0.387513  1.799207   \n",
       "12  4.285796  4.124984         0.429993              0.408461  1.842862   \n",
       "9   4.865428  4.662372         0.417021              0.393610  2.028987   \n",
       "13  4.008368  3.772118         0.413284              0.379081  1.656595   \n",
       "2   4.750998  4.379155         0.419558              0.374956  1.993321   \n",
       "10  3.023122  2.798752         0.360544              0.316160  1.089969   \n",
       "11  2.504702  2.305131         0.372197              0.321043  0.932243   \n",
       "\n",
       "    rpl_beta  \n",
       "4   1.828560  \n",
       "6   1.672905  \n",
       "12  1.684894  \n",
       "9   1.835157  \n",
       "13  1.429938  \n",
       "2   1.641990  \n",
       "10  0.884854  \n",
       "11  0.740047  "
      ]
     },
     "execution_count": 25,
     "metadata": {},
     "output_type": "execute_result"
    }
   ],
   "source": [
    "calc_location_stats(u65.query('state_code == \"CA\"'), 'dma_state').sort_values(by='sessions', ascending=False).head(8)"
   ]
  },
  {
   "cell_type": "code",
   "execution_count": 26,
   "metadata": {},
   "outputs": [
    {
     "data": {
      "text/html": [
       "<div>\n",
       "<style scoped>\n",
       "    .dataframe tbody tr th:only-of-type {\n",
       "        vertical-align: middle;\n",
       "    }\n",
       "\n",
       "    .dataframe tbody tr th {\n",
       "        vertical-align: top;\n",
       "    }\n",
       "\n",
       "    .dataframe thead th {\n",
       "        text-align: right;\n",
       "    }\n",
       "</style>\n",
       "<table border=\"1\" class=\"dataframe\">\n",
       "  <thead>\n",
       "    <tr style=\"text-align: right;\">\n",
       "      <th></th>\n",
       "      <th>region</th>\n",
       "      <th>sessions</th>\n",
       "      <th>conversions</th>\n",
       "      <th>revenue</th>\n",
       "      <th>sessions_log</th>\n",
       "      <th>revenue_log</th>\n",
       "      <th>rps</th>\n",
       "      <th>rps_beta</th>\n",
       "      <th>conversion_rate</th>\n",
       "      <th>conversion_rate_beta</th>\n",
       "      <th>rpl</th>\n",
       "      <th>rpl_beta</th>\n",
       "    </tr>\n",
       "  </thead>\n",
       "  <tbody>\n",
       "    <tr>\n",
       "      <th>22</th>\n",
       "      <td>WA</td>\n",
       "      <td>2493</td>\n",
       "      <td>1135</td>\n",
       "      <td>7613.704852</td>\n",
       "      <td>3.396722</td>\n",
       "      <td>3.881596</td>\n",
       "      <td>3.054033</td>\n",
       "      <td>2.973078</td>\n",
       "      <td>0.455275</td>\n",
       "      <td>0.438935</td>\n",
       "      <td>1.390424</td>\n",
       "      <td>1.304987</td>\n",
       "    </tr>\n",
       "    <tr>\n",
       "      <th>4</th>\n",
       "      <td>GA</td>\n",
       "      <td>2404</td>\n",
       "      <td>889</td>\n",
       "      <td>9341.898420</td>\n",
       "      <td>3.380934</td>\n",
       "      <td>3.970435</td>\n",
       "      <td>3.885981</td>\n",
       "      <td>3.775641</td>\n",
       "      <td>0.369800</td>\n",
       "      <td>0.353784</td>\n",
       "      <td>1.437037</td>\n",
       "      <td>1.335761</td>\n",
       "    </tr>\n",
       "    <tr>\n",
       "      <th>1</th>\n",
       "      <td>CA</td>\n",
       "      <td>1997</td>\n",
       "      <td>799</td>\n",
       "      <td>7070.213352</td>\n",
       "      <td>3.300378</td>\n",
       "      <td>3.849433</td>\n",
       "      <td>3.540417</td>\n",
       "      <td>3.432247</td>\n",
       "      <td>0.400100</td>\n",
       "      <td>0.382236</td>\n",
       "      <td>1.416521</td>\n",
       "      <td>1.311930</td>\n",
       "    </tr>\n",
       "    <tr>\n",
       "      <th>2</th>\n",
       "      <td>CO</td>\n",
       "      <td>1309</td>\n",
       "      <td>561</td>\n",
       "      <td>7215.965144</td>\n",
       "      <td>3.116940</td>\n",
       "      <td>3.858294</td>\n",
       "      <td>5.512578</td>\n",
       "      <td>5.290919</td>\n",
       "      <td>0.428571</td>\n",
       "      <td>0.406268</td>\n",
       "      <td>2.362534</td>\n",
       "      <td>2.149531</td>\n",
       "    </tr>\n",
       "    <tr>\n",
       "      <th>7</th>\n",
       "      <td>MD</td>\n",
       "      <td>889</td>\n",
       "      <td>332</td>\n",
       "      <td>3121.666668</td>\n",
       "      <td>2.948902</td>\n",
       "      <td>3.494387</td>\n",
       "      <td>3.511436</td>\n",
       "      <td>3.352535</td>\n",
       "      <td>0.373453</td>\n",
       "      <td>0.347253</td>\n",
       "      <td>1.311357</td>\n",
       "      <td>1.164178</td>\n",
       "    </tr>\n",
       "  </tbody>\n",
       "</table>\n",
       "</div>"
      ],
      "text/plain": [
       "   region  sessions  conversions      revenue  sessions_log  revenue_log  \\\n",
       "22     WA      2493         1135  7613.704852      3.396722     3.881596   \n",
       "4      GA      2404          889  9341.898420      3.380934     3.970435   \n",
       "1      CA      1997          799  7070.213352      3.300378     3.849433   \n",
       "2      CO      1309          561  7215.965144      3.116940     3.858294   \n",
       "7      MD       889          332  3121.666668      2.948902     3.494387   \n",
       "\n",
       "         rps  rps_beta  conversion_rate  conversion_rate_beta       rpl  \\\n",
       "22  3.054033  2.973078         0.455275              0.438935  1.390424   \n",
       "4   3.885981  3.775641         0.369800              0.353784  1.437037   \n",
       "1   3.540417  3.432247         0.400100              0.382236  1.416521   \n",
       "2   5.512578  5.290919         0.428571              0.406268  2.362534   \n",
       "7   3.511436  3.352535         0.373453              0.347253  1.311357   \n",
       "\n",
       "    rpl_beta  \n",
       "22  1.304987  \n",
       "4   1.335761  \n",
       "1   1.311930  \n",
       "2   2.149531  \n",
       "7   1.164178  "
      ]
     },
     "execution_count": 26,
     "metadata": {},
     "output_type": "execute_result"
    }
   ],
   "source": [
    "u65_dma_stats = calc_location_stats(u65.query('dma_state not in [\"803CA\", \"807CA\", \"825CA\", \"862CA\"]'), SPLIT_REGION, min_conversions=MIN_C)\n",
    "u65_dma_stats.sort_values(by=['sessions'], ascending=False).head(5)"
   ]
  },
  {
   "cell_type": "code",
   "execution_count": 27,
   "metadata": {},
   "outputs": [],
   "source": [
    "ca_stats = calc_location_stats(u65.query('dma_state in [\"803CA\", \"807CA\", \"825CA\", \"862CA\"]'), 'dma_state', min_conversions=MIN_C)"
   ]
  },
  {
   "cell_type": "code",
   "execution_count": 28,
   "metadata": {},
   "outputs": [],
   "source": [
    "u65_dma_stats = pd.concat([u65_dma_stats, ca_stats]).reset_index(drop=True)"
   ]
  },
  {
   "cell_type": "code",
   "execution_count": 29,
   "metadata": {},
   "outputs": [
    {
     "data": {
      "text/html": [
       "<div>\n",
       "<style scoped>\n",
       "    .dataframe tbody tr th:only-of-type {\n",
       "        vertical-align: middle;\n",
       "    }\n",
       "\n",
       "    .dataframe tbody tr th {\n",
       "        vertical-align: top;\n",
       "    }\n",
       "\n",
       "    .dataframe thead th {\n",
       "        text-align: right;\n",
       "    }\n",
       "</style>\n",
       "<table border=\"1\" class=\"dataframe\">\n",
       "  <thead>\n",
       "    <tr style=\"text-align: right;\">\n",
       "      <th></th>\n",
       "      <th>region</th>\n",
       "      <th>sessions</th>\n",
       "      <th>conversions</th>\n",
       "      <th>revenue</th>\n",
       "      <th>sessions_log</th>\n",
       "      <th>revenue_log</th>\n",
       "      <th>rps</th>\n",
       "      <th>rps_beta</th>\n",
       "      <th>conversion_rate</th>\n",
       "      <th>conversion_rate_beta</th>\n",
       "      <th>rpl</th>\n",
       "      <th>rpl_beta</th>\n",
       "    </tr>\n",
       "  </thead>\n",
       "  <tbody>\n",
       "    <tr>\n",
       "      <th>8</th>\n",
       "      <td>ME</td>\n",
       "      <td>83</td>\n",
       "      <td>37</td>\n",
       "      <td>316.479680</td>\n",
       "      <td>1.919078</td>\n",
       "      <td>2.500346</td>\n",
       "      <td>3.813008</td>\n",
       "      <td>3.277164</td>\n",
       "      <td>0.445783</td>\n",
       "      <td>0.359521</td>\n",
       "      <td>1.699775</td>\n",
       "      <td>1.178208</td>\n",
       "    </tr>\n",
       "    <tr>\n",
       "      <th>6</th>\n",
       "      <td>LA</td>\n",
       "      <td>87</td>\n",
       "      <td>39</td>\n",
       "      <td>398.310160</td>\n",
       "      <td>1.939519</td>\n",
       "      <td>2.600221</td>\n",
       "      <td>4.578278</td>\n",
       "      <td>3.927461</td>\n",
       "      <td>0.448276</td>\n",
       "      <td>0.363780</td>\n",
       "      <td>2.052331</td>\n",
       "      <td>1.428731</td>\n",
       "    </tr>\n",
       "    <tr>\n",
       "      <th>21</th>\n",
       "      <td>VT</td>\n",
       "      <td>119</td>\n",
       "      <td>51</td>\n",
       "      <td>161.536870</td>\n",
       "      <td>2.075547</td>\n",
       "      <td>2.208272</td>\n",
       "      <td>1.357453</td>\n",
       "      <td>1.267743</td>\n",
       "      <td>0.428571</td>\n",
       "      <td>0.356658</td>\n",
       "      <td>0.581765</td>\n",
       "      <td>0.452151</td>\n",
       "    </tr>\n",
       "    <tr>\n",
       "      <th>11</th>\n",
       "      <td>MT</td>\n",
       "      <td>121</td>\n",
       "      <td>57</td>\n",
       "      <td>391.930220</td>\n",
       "      <td>2.082785</td>\n",
       "      <td>2.593209</td>\n",
       "      <td>3.239093</td>\n",
       "      <td>2.869288</td>\n",
       "      <td>0.471074</td>\n",
       "      <td>0.398032</td>\n",
       "      <td>1.525854</td>\n",
       "      <td>1.142068</td>\n",
       "    </tr>\n",
       "    <tr>\n",
       "      <th>0</th>\n",
       "      <td>AZ</td>\n",
       "      <td>126</td>\n",
       "      <td>37</td>\n",
       "      <td>266.634472</td>\n",
       "      <td>2.100371</td>\n",
       "      <td>2.425916</td>\n",
       "      <td>2.116147</td>\n",
       "      <td>1.912409</td>\n",
       "      <td>0.293651</td>\n",
       "      <td>0.232533</td>\n",
       "      <td>0.621408</td>\n",
       "      <td>0.444698</td>\n",
       "    </tr>\n",
       "  </tbody>\n",
       "</table>\n",
       "</div>"
      ],
      "text/plain": [
       "   region  sessions  conversions     revenue  sessions_log  revenue_log  \\\n",
       "8      ME        83           37  316.479680      1.919078     2.500346   \n",
       "6      LA        87           39  398.310160      1.939519     2.600221   \n",
       "21     VT       119           51  161.536870      2.075547     2.208272   \n",
       "11     MT       121           57  391.930220      2.082785     2.593209   \n",
       "0      AZ       126           37  266.634472      2.100371     2.425916   \n",
       "\n",
       "         rps  rps_beta  conversion_rate  conversion_rate_beta       rpl  \\\n",
       "8   3.813008  3.277164         0.445783              0.359521  1.699775   \n",
       "6   4.578278  3.927461         0.448276              0.363780  2.052331   \n",
       "21  1.357453  1.267743         0.428571              0.356658  0.581765   \n",
       "11  3.239093  2.869288         0.471074              0.398032  1.525854   \n",
       "0   2.116147  1.912409         0.293651              0.232533  0.621408   \n",
       "\n",
       "    rpl_beta  \n",
       "8   1.178208  \n",
       "6   1.428731  \n",
       "21  0.452151  \n",
       "11  1.142068  \n",
       "0   0.444698  "
      ]
     },
     "execution_count": 29,
     "metadata": {},
     "output_type": "execute_result"
    }
   ],
   "source": [
    "u65_dma_stats.sort_values(by='sessions', ascending=True).head(5)"
   ]
  },
  {
   "cell_type": "code",
   "execution_count": 30,
   "metadata": {},
   "outputs": [
    {
     "data": {
      "text/plain": [
       "<seaborn.axisgrid.FacetGrid at 0x13e7e5370>"
      ]
     },
     "execution_count": 30,
     "metadata": {},
     "output_type": "execute_result"
    },
    {
     "data": {
      "image/png": "[encoded data removed]",
      "text/plain": [
       "<Figure size 360x360 with 1 Axes>"
      ]
     },
     "metadata": {
      "needs_background": "light"
     },
     "output_type": "display_data"
    }
   ],
   "source": [
    "sns.lmplot(x='sessions', y='rpl', data=u65_dma_stats[(~u65_dma_stats['sessions'].isna())], logx=False)"
   ]
  },
  {
   "cell_type": "code",
   "execution_count": 31,
   "metadata": {},
   "outputs": [],
   "source": [
    "METRICS = ['sessions_log', 'revenue_log', 'rps', 'conversion_rate', 'rpl_beta']"
   ]
  },
  {
   "cell_type": "code",
   "execution_count": 32,
   "metadata": {},
   "outputs": [],
   "source": [
    "def prepare_data(df, cols, scale_method='max'):\n",
    "    scaler = None\n",
    "    if scale_method == 'standard':\n",
    "        scaler = StandardScaler()\n",
    "    if scale_method == 'max':\n",
    "        scaler = MaxAbsScaler()\n",
    "    scaled_df = df.copy()\n",
    "    if scaler:\n",
    "        scaled_df[cols] = scaler.fit_transform(df[cols])\n",
    "\n",
    "    return scaled_df, scaler"
   ]
  },
  {
   "cell_type": "code",
   "execution_count": 33,
   "metadata": {},
   "outputs": [
    {
     "data": {
      "text/html": [
       "<div>\n",
       "<style scoped>\n",
       "    .dataframe tbody tr th:only-of-type {\n",
       "        vertical-align: middle;\n",
       "    }\n",
       "\n",
       "    .dataframe tbody tr th {\n",
       "        vertical-align: top;\n",
       "    }\n",
       "\n",
       "    .dataframe thead th {\n",
       "        text-align: right;\n",
       "    }\n",
       "</style>\n",
       "<table border=\"1\" class=\"dataframe\">\n",
       "  <thead>\n",
       "    <tr style=\"text-align: right;\">\n",
       "      <th></th>\n",
       "      <th>sessions_log</th>\n",
       "      <th>revenue_log</th>\n",
       "      <th>rps</th>\n",
       "      <th>conversion_rate</th>\n",
       "      <th>rpl_beta</th>\n",
       "    </tr>\n",
       "  </thead>\n",
       "  <tbody>\n",
       "    <tr>\n",
       "      <th>count</th>\n",
       "      <td>27.000000</td>\n",
       "      <td>27.000000</td>\n",
       "      <td>27.000000</td>\n",
       "      <td>27.000000</td>\n",
       "      <td>27.000000</td>\n",
       "    </tr>\n",
       "    <tr>\n",
       "      <th>mean</th>\n",
       "      <td>2.656320</td>\n",
       "      <td>3.136411</td>\n",
       "      <td>3.267241</td>\n",
       "      <td>0.392597</td>\n",
       "      <td>1.101596</td>\n",
       "    </tr>\n",
       "    <tr>\n",
       "      <th>std</th>\n",
       "      <td>0.520920</td>\n",
       "      <td>0.622582</td>\n",
       "      <td>1.230915</td>\n",
       "      <td>0.047932</td>\n",
       "      <td>0.504716</td>\n",
       "    </tr>\n",
       "    <tr>\n",
       "      <th>min</th>\n",
       "      <td>1.919078</td>\n",
       "      <td>2.208272</td>\n",
       "      <td>1.357453</td>\n",
       "      <td>0.293651</td>\n",
       "      <td>0.432316</td>\n",
       "    </tr>\n",
       "    <tr>\n",
       "      <th>25%</th>\n",
       "      <td>2.197103</td>\n",
       "      <td>2.610611</td>\n",
       "      <td>2.100754</td>\n",
       "      <td>0.365492</td>\n",
       "      <td>0.526656</td>\n",
       "    </tr>\n",
       "    <tr>\n",
       "      <th>50%</th>\n",
       "      <td>2.658965</td>\n",
       "      <td>2.930577</td>\n",
       "      <td>3.466860</td>\n",
       "      <td>0.397496</td>\n",
       "      <td>1.178208</td>\n",
       "    </tr>\n",
       "    <tr>\n",
       "      <th>75%</th>\n",
       "      <td>3.093489</td>\n",
       "      <td>3.768742</td>\n",
       "      <td>4.283162</td>\n",
       "      <td>0.428571</td>\n",
       "      <td>1.382246</td>\n",
       "    </tr>\n",
       "    <tr>\n",
       "      <th>max</th>\n",
       "      <td>3.736954</td>\n",
       "      <td>4.413431</td>\n",
       "      <td>5.512578</td>\n",
       "      <td>0.471074</td>\n",
       "      <td>2.149531</td>\n",
       "    </tr>\n",
       "  </tbody>\n",
       "</table>\n",
       "</div>"
      ],
      "text/plain": [
       "       sessions_log  revenue_log        rps  conversion_rate   rpl_beta\n",
       "count     27.000000    27.000000  27.000000        27.000000  27.000000\n",
       "mean       2.656320     3.136411   3.267241         0.392597   1.101596\n",
       "std        0.520920     0.622582   1.230915         0.047932   0.504716\n",
       "min        1.919078     2.208272   1.357453         0.293651   0.432316\n",
       "25%        2.197103     2.610611   2.100754         0.365492   0.526656\n",
       "50%        2.658965     2.930577   3.466860         0.397496   1.178208\n",
       "75%        3.093489     3.768742   4.283162         0.428571   1.382246\n",
       "max        3.736954     4.413431   5.512578         0.471074   2.149531"
      ]
     },
     "execution_count": 33,
     "metadata": {},
     "output_type": "execute_result"
    }
   ],
   "source": [
    "u65_dma_stats[METRICS].describe()"
   ]
  },
  {
   "cell_type": "code",
   "execution_count": 34,
   "metadata": {},
   "outputs": [],
   "source": [
    "X, scaler = prepare_data(u65_dma_stats, METRICS)"
   ]
  },
  {
   "cell_type": "code",
   "execution_count": 35,
   "metadata": {},
   "outputs": [
    {
     "data": {
      "text/html": [
       "<div>\n",
       "<style scoped>\n",
       "    .dataframe tbody tr th:only-of-type {\n",
       "        vertical-align: middle;\n",
       "    }\n",
       "\n",
       "    .dataframe tbody tr th {\n",
       "        vertical-align: top;\n",
       "    }\n",
       "\n",
       "    .dataframe thead th {\n",
       "        text-align: right;\n",
       "    }\n",
       "</style>\n",
       "<table border=\"1\" class=\"dataframe\">\n",
       "  <thead>\n",
       "    <tr style=\"text-align: right;\">\n",
       "      <th></th>\n",
       "      <th>region</th>\n",
       "      <th>sessions_log</th>\n",
       "      <th>revenue_log</th>\n",
       "      <th>rps</th>\n",
       "      <th>conversion_rate</th>\n",
       "      <th>rpl_beta</th>\n",
       "    </tr>\n",
       "  </thead>\n",
       "  <tbody>\n",
       "    <tr>\n",
       "      <th>0</th>\n",
       "      <td>AZ</td>\n",
       "      <td>0.562054</td>\n",
       "      <td>0.549667</td>\n",
       "      <td>0.383876</td>\n",
       "      <td>0.623364</td>\n",
       "      <td>0.206881</td>\n",
       "    </tr>\n",
       "    <tr>\n",
       "      <th>1</th>\n",
       "      <td>CA</td>\n",
       "      <td>0.883173</td>\n",
       "      <td>0.872209</td>\n",
       "      <td>0.642243</td>\n",
       "      <td>0.849335</td>\n",
       "      <td>0.610333</td>\n",
       "    </tr>\n",
       "  </tbody>\n",
       "</table>\n",
       "</div>"
      ],
      "text/plain": [
       "  region  sessions_log  revenue_log       rps  conversion_rate  rpl_beta\n",
       "0     AZ      0.562054     0.549667  0.383876         0.623364  0.206881\n",
       "1     CA      0.883173     0.872209  0.642243         0.849335  0.610333"
      ]
     },
     "execution_count": 35,
     "metadata": {},
     "output_type": "execute_result"
    }
   ],
   "source": [
    "X[['region'] + METRICS].head(2)"
   ]
  },
  {
   "cell_type": "code",
   "execution_count": 36,
   "metadata": {},
   "outputs": [],
   "source": [
    "X['final_score'] = X[METRICS].sum(axis=1)"
   ]
  },
  {
   "cell_type": "code",
   "execution_count": 37,
   "metadata": {},
   "outputs": [],
   "source": [
    "X_final = X.sort_values(by=['final_score'], ascending=False).reset_index(drop=True)"
   ]
  },
  {
   "cell_type": "code",
   "execution_count": 38,
   "metadata": {},
   "outputs": [],
   "source": [
    "def assign_group(n, length):\n",
    "    reps = length // n\n",
    "    init_list = list(range(1,n+1))\n",
    "    groups = init_list * reps\n",
    "    i = 1\n",
    "    while len(groups) < length:\n",
    "        groups.append(i)\n",
    "        i += 1\n",
    "    \n",
    "    return groups"
   ]
  },
  {
   "cell_type": "code",
   "execution_count": 39,
   "metadata": {},
   "outputs": [],
   "source": [
    "N = 2"
   ]
  },
  {
   "cell_type": "code",
   "execution_count": 40,
   "metadata": {},
   "outputs": [],
   "source": [
    "X_final['group'] = assign_group(N, len(X_final))"
   ]
  },
  {
   "cell_type": "code",
   "execution_count": 41,
   "metadata": {},
   "outputs": [
    {
     "data": {
      "text/html": [
       "<div>\n",
       "<style scoped>\n",
       "    .dataframe tbody tr th:only-of-type {\n",
       "        vertical-align: middle;\n",
       "    }\n",
       "\n",
       "    .dataframe tbody tr th {\n",
       "        vertical-align: top;\n",
       "    }\n",
       "\n",
       "    .dataframe thead th {\n",
       "        text-align: right;\n",
       "    }\n",
       "</style>\n",
       "<table border=\"1\" class=\"dataframe\">\n",
       "  <thead>\n",
       "    <tr style=\"text-align: right;\">\n",
       "      <th></th>\n",
       "      <th>region</th>\n",
       "      <th>sessions</th>\n",
       "      <th>conversions</th>\n",
       "      <th>revenue</th>\n",
       "      <th>sessions_log</th>\n",
       "      <th>revenue_log</th>\n",
       "      <th>rps</th>\n",
       "      <th>rps_beta</th>\n",
       "      <th>conversion_rate</th>\n",
       "      <th>conversion_rate_beta</th>\n",
       "      <th>rpl</th>\n",
       "      <th>rpl_beta</th>\n",
       "      <th>final_score</th>\n",
       "      <th>group</th>\n",
       "    </tr>\n",
       "  </thead>\n",
       "  <tbody>\n",
       "    <tr>\n",
       "      <th>1</th>\n",
       "      <td>803CA</td>\n",
       "      <td>5457</td>\n",
       "      <td>2203</td>\n",
       "      <td>25907.853588</td>\n",
       "      <td>1.000000</td>\n",
       "      <td>1.00000</td>\n",
       "      <td>0.861237</td>\n",
       "      <td>4.654780</td>\n",
       "      <td>0.856981</td>\n",
       "      <td>0.392835</td>\n",
       "      <td>1.916629</td>\n",
       "      <td>0.850679</td>\n",
       "      <td>4.568897</td>\n",
       "      <td>2</td>\n",
       "    </tr>\n",
       "    <tr>\n",
       "      <th>3</th>\n",
       "      <td>807CA</td>\n",
       "      <td>2268</td>\n",
       "      <td>917</td>\n",
       "      <td>10092.482246</td>\n",
       "      <td>0.897962</td>\n",
       "      <td>0.90723</td>\n",
       "      <td>0.807235</td>\n",
       "      <td>4.317028</td>\n",
       "      <td>0.858295</td>\n",
       "      <td>0.387513</td>\n",
       "      <td>1.799207</td>\n",
       "      <td>0.778265</td>\n",
       "      <td>4.248988</td>\n",
       "      <td>2</td>\n",
       "    </tr>\n",
       "  </tbody>\n",
       "</table>\n",
       "</div>"
      ],
      "text/plain": [
       "  region  sessions  conversions       revenue  sessions_log  revenue_log  \\\n",
       "1  803CA      5457         2203  25907.853588      1.000000      1.00000   \n",
       "3  807CA      2268          917  10092.482246      0.897962      0.90723   \n",
       "\n",
       "        rps  rps_beta  conversion_rate  conversion_rate_beta       rpl  \\\n",
       "1  0.861237  4.654780         0.856981              0.392835  1.916629   \n",
       "3  0.807235  4.317028         0.858295              0.387513  1.799207   \n",
       "\n",
       "   rpl_beta  final_score  group  \n",
       "1  0.850679     4.568897      2  \n",
       "3  0.778265     4.248988      2  "
      ]
     },
     "execution_count": 41,
     "metadata": {},
     "output_type": "execute_result"
    }
   ],
   "source": [
    "X_final.sort_values(by=['revenue', 'sessions_log'], ascending=False).head(2)"
   ]
  },
  {
   "cell_type": "code",
   "execution_count": 42,
   "metadata": {},
   "outputs": [
    {
     "data": {
      "text/html": [
       "<div>\n",
       "<style scoped>\n",
       "    .dataframe tbody tr th:only-of-type {\n",
       "        vertical-align: middle;\n",
       "    }\n",
       "\n",
       "    .dataframe tbody tr th {\n",
       "        vertical-align: top;\n",
       "    }\n",
       "\n",
       "    .dataframe thead th {\n",
       "        text-align: right;\n",
       "    }\n",
       "</style>\n",
       "<table border=\"1\" class=\"dataframe\">\n",
       "  <thead>\n",
       "    <tr style=\"text-align: right;\">\n",
       "      <th></th>\n",
       "      <th>final_score</th>\n",
       "    </tr>\n",
       "    <tr>\n",
       "      <th>group</th>\n",
       "      <th></th>\n",
       "    </tr>\n",
       "  </thead>\n",
       "  <tbody>\n",
       "    <tr>\n",
       "      <th>1</th>\n",
       "      <td>3.363726</td>\n",
       "    </tr>\n",
       "    <tr>\n",
       "      <th>2</th>\n",
       "      <td>3.356101</td>\n",
       "    </tr>\n",
       "  </tbody>\n",
       "</table>\n",
       "</div>"
      ],
      "text/plain": [
       "       final_score\n",
       "group             \n",
       "1         3.363726\n",
       "2         3.356101"
      ]
     },
     "execution_count": 42,
     "metadata": {},
     "output_type": "execute_result"
    }
   ],
   "source": [
    "X_final.groupby(by='group').agg({'final_score': 'mean'})"
   ]
  },
  {
   "cell_type": "code",
   "execution_count": 43,
   "metadata": {},
   "outputs": [],
   "source": [
    "def welches_t_test(first_sample_df, second_sample_df, field='final_score'):\n",
    "    return ttest_ind(\n",
    "        first_sample_df[field],\n",
    "        second_sample_df[field], \n",
    "        equal_var=False,\n",
    "        nan_policy='omit'\n",
    "    )[1]"
   ]
  },
  {
   "cell_type": "markdown",
   "metadata": {},
   "source": [
    "### Significance test for both distributions"
   ]
  },
  {
   "cell_type": "code",
   "execution_count": 58,
   "metadata": {},
   "outputs": [
    {
     "data": {
      "text/html": [
       "<div>\n",
       "<style scoped>\n",
       "    .dataframe tbody tr th:only-of-type {\n",
       "        vertical-align: middle;\n",
       "    }\n",
       "\n",
       "    .dataframe tbody tr th {\n",
       "        vertical-align: top;\n",
       "    }\n",
       "\n",
       "    .dataframe thead th {\n",
       "        text-align: right;\n",
       "    }\n",
       "</style>\n",
       "<table border=\"1\" class=\"dataframe\">\n",
       "  <thead>\n",
       "    <tr style=\"text-align: right;\">\n",
       "      <th></th>\n",
       "      <th>region</th>\n",
       "      <th>sessions</th>\n",
       "      <th>revenue</th>\n",
       "      <th>rpl</th>\n",
       "      <th>final_score</th>\n",
       "      <th>group</th>\n",
       "    </tr>\n",
       "  </thead>\n",
       "  <tbody>\n",
       "    <tr>\n",
       "      <th>0</th>\n",
       "      <td>CO</td>\n",
       "      <td>1309</td>\n",
       "      <td>7215.965144</td>\n",
       "      <td>2.362534</td>\n",
       "      <td>4.618077</td>\n",
       "      <td>1</td>\n",
       "    </tr>\n",
       "    <tr>\n",
       "      <th>1</th>\n",
       "      <td>803CA</td>\n",
       "      <td>5457</td>\n",
       "      <td>25907.853588</td>\n",
       "      <td>1.916629</td>\n",
       "      <td>4.568897</td>\n",
       "      <td>2</td>\n",
       "    </tr>\n",
       "    <tr>\n",
       "      <th>2</th>\n",
       "      <td>825CA</td>\n",
       "      <td>1175</td>\n",
       "      <td>5716.877560</td>\n",
       "      <td>2.028987</td>\n",
       "      <td>4.294444</td>\n",
       "      <td>1</td>\n",
       "    </tr>\n",
       "    <tr>\n",
       "      <th>3</th>\n",
       "      <td>807CA</td>\n",
       "      <td>2268</td>\n",
       "      <td>10092.482246</td>\n",
       "      <td>1.799207</td>\n",
       "      <td>4.248988</td>\n",
       "      <td>2</td>\n",
       "    </tr>\n",
       "    <tr>\n",
       "      <th>4</th>\n",
       "      <td>862CA</td>\n",
       "      <td>1407</td>\n",
       "      <td>6030.115630</td>\n",
       "      <td>1.842862</td>\n",
       "      <td>4.173118</td>\n",
       "      <td>1</td>\n",
       "    </tr>\n",
       "    <tr>\n",
       "      <th>5</th>\n",
       "      <td>WA</td>\n",
       "      <td>2493</td>\n",
       "      <td>7613.704852</td>\n",
       "      <td>1.390424</td>\n",
       "      <td>3.916026</td>\n",
       "      <td>2</td>\n",
       "    </tr>\n",
       "    <tr>\n",
       "      <th>6</th>\n",
       "      <td>GA</td>\n",
       "      <td>2404</td>\n",
       "      <td>9341.898420</td>\n",
       "      <td>1.437037</td>\n",
       "      <td>3.915720</td>\n",
       "      <td>1</td>\n",
       "    </tr>\n",
       "    <tr>\n",
       "      <th>7</th>\n",
       "      <td>CA</td>\n",
       "      <td>1997</td>\n",
       "      <td>7070.213352</td>\n",
       "      <td>1.416521</td>\n",
       "      <td>3.857294</td>\n",
       "      <td>2</td>\n",
       "    </tr>\n",
       "    <tr>\n",
       "      <th>8</th>\n",
       "      <td>MO</td>\n",
       "      <td>153</td>\n",
       "      <td>755.903740</td>\n",
       "      <td>2.034343</td>\n",
       "      <td>3.719685</td>\n",
       "      <td>1</td>\n",
       "    </tr>\n",
       "    <tr>\n",
       "      <th>9</th>\n",
       "      <td>VA</td>\n",
       "      <td>487</td>\n",
       "      <td>2084.616772</td>\n",
       "      <td>1.511808</td>\n",
       "      <td>3.592079</td>\n",
       "      <td>2</td>\n",
       "    </tr>\n",
       "    <tr>\n",
       "      <th>10</th>\n",
       "      <td>NC</td>\n",
       "      <td>484</td>\n",
       "      <td>1939.260994</td>\n",
       "      <td>1.481831</td>\n",
       "      <td>3.560318</td>\n",
       "      <td>1</td>\n",
       "    </tr>\n",
       "    <tr>\n",
       "      <th>11</th>\n",
       "      <td>LA</td>\n",
       "      <td>87</td>\n",
       "      <td>398.310160</td>\n",
       "      <td>2.052331</td>\n",
       "      <td>3.554961</td>\n",
       "      <td>2</td>\n",
       "    </tr>\n",
       "    <tr>\n",
       "      <th>12</th>\n",
       "      <td>MD</td>\n",
       "      <td>889</td>\n",
       "      <td>3121.666668</td>\n",
       "      <td>1.311357</td>\n",
       "      <td>3.552233</td>\n",
       "      <td>1</td>\n",
       "    </tr>\n",
       "    <tr>\n",
       "      <th>13</th>\n",
       "      <td>OR</td>\n",
       "      <td>668</td>\n",
       "      <td>2315.862440</td>\n",
       "      <td>1.375326</td>\n",
       "      <td>3.549209</td>\n",
       "      <td>2</td>\n",
       "    </tr>\n",
       "    <tr>\n",
       "      <th>14</th>\n",
       "      <td>ME</td>\n",
       "      <td>83</td>\n",
       "      <td>316.479680</td>\n",
       "      <td>1.699775</td>\n",
       "      <td>3.266199</td>\n",
       "      <td>1</td>\n",
       "    </tr>\n",
       "    <tr>\n",
       "      <th>15</th>\n",
       "      <td>MT</td>\n",
       "      <td>121</td>\n",
       "      <td>391.930220</td>\n",
       "      <td>1.525854</td>\n",
       "      <td>3.263813</td>\n",
       "      <td>2</td>\n",
       "    </tr>\n",
       "    <tr>\n",
       "      <th>16</th>\n",
       "      <td>NH</td>\n",
       "      <td>162</td>\n",
       "      <td>417.831080</td>\n",
       "      <td>1.209997</td>\n",
       "      <td>3.090344</td>\n",
       "      <td>1</td>\n",
       "    </tr>\n",
       "    <tr>\n",
       "      <th>17</th>\n",
       "      <td>CT</td>\n",
       "      <td>639</td>\n",
       "      <td>1332.546416</td>\n",
       "      <td>0.828923</td>\n",
       "      <td>3.020180</td>\n",
       "      <td>2</td>\n",
       "    </tr>\n",
       "    <tr>\n",
       "      <th>18</th>\n",
       "      <td>OH</td>\n",
       "      <td>178</td>\n",
       "      <td>553.985260</td>\n",
       "      <td>1.171475</td>\n",
       "      <td>3.005971</td>\n",
       "      <td>1</td>\n",
       "    </tr>\n",
       "    <tr>\n",
       "      <th>19</th>\n",
       "      <td>NY</td>\n",
       "      <td>392</td>\n",
       "      <td>625.795968</td>\n",
       "      <td>0.586439</td>\n",
       "      <td>2.629395</td>\n",
       "      <td>2</td>\n",
       "    </tr>\n",
       "    <tr>\n",
       "      <th>20</th>\n",
       "      <td>PA</td>\n",
       "      <td>274</td>\n",
       "      <td>620.265364</td>\n",
       "      <td>0.685732</td>\n",
       "      <td>2.593234</td>\n",
       "      <td>1</td>\n",
       "    </tr>\n",
       "    <tr>\n",
       "      <th>21</th>\n",
       "      <td>HI</td>\n",
       "      <td>456</td>\n",
       "      <td>852.269590</td>\n",
       "      <td>0.569721</td>\n",
       "      <td>2.585447</td>\n",
       "      <td>2</td>\n",
       "    </tr>\n",
       "    <tr>\n",
       "      <th>22</th>\n",
       "      <td>NJ</td>\n",
       "      <td>252</td>\n",
       "      <td>434.094568</td>\n",
       "      <td>0.622049</td>\n",
       "      <td>2.554847</td>\n",
       "      <td>1</td>\n",
       "    </tr>\n",
       "    <tr>\n",
       "      <th>23</th>\n",
       "      <td>RI</td>\n",
       "      <td>146</td>\n",
       "      <td>267.079350</td>\n",
       "      <td>0.651535</td>\n",
       "      <td>2.446878</td>\n",
       "      <td>2</td>\n",
       "    </tr>\n",
       "    <tr>\n",
       "      <th>24</th>\n",
       "      <td>VT</td>\n",
       "      <td>119</td>\n",
       "      <td>161.536870</td>\n",
       "      <td>0.581765</td>\n",
       "      <td>2.422133</td>\n",
       "      <td>1</td>\n",
       "    </tr>\n",
       "    <tr>\n",
       "      <th>25</th>\n",
       "      <td>MN</td>\n",
       "      <td>176</td>\n",
       "      <td>264.998520</td>\n",
       "      <td>0.547518</td>\n",
       "      <td>2.396140</td>\n",
       "      <td>2</td>\n",
       "    </tr>\n",
       "    <tr>\n",
       "      <th>26</th>\n",
       "      <td>AZ</td>\n",
       "      <td>126</td>\n",
       "      <td>266.634472</td>\n",
       "      <td>0.621408</td>\n",
       "      <td>2.325842</td>\n",
       "      <td>1</td>\n",
       "    </tr>\n",
       "  </tbody>\n",
       "</table>\n",
       "</div>"
      ],
      "text/plain": [
       "   region  sessions       revenue       rpl  final_score  group\n",
       "0      CO      1309   7215.965144  2.362534     4.618077      1\n",
       "1   803CA      5457  25907.853588  1.916629     4.568897      2\n",
       "2   825CA      1175   5716.877560  2.028987     4.294444      1\n",
       "3   807CA      2268  10092.482246  1.799207     4.248988      2\n",
       "4   862CA      1407   6030.115630  1.842862     4.173118      1\n",
       "5      WA      2493   7613.704852  1.390424     3.916026      2\n",
       "6      GA      2404   9341.898420  1.437037     3.915720      1\n",
       "7      CA      1997   7070.213352  1.416521     3.857294      2\n",
       "8      MO       153    755.903740  2.034343     3.719685      1\n",
       "9      VA       487   2084.616772  1.511808     3.592079      2\n",
       "10     NC       484   1939.260994  1.481831     3.560318      1\n",
       "11     LA        87    398.310160  2.052331     3.554961      2\n",
       "12     MD       889   3121.666668  1.311357     3.552233      1\n",
       "13     OR       668   2315.862440  1.375326     3.549209      2\n",
       "14     ME        83    316.479680  1.699775     3.266199      1\n",
       "15     MT       121    391.930220  1.525854     3.263813      2\n",
       "16     NH       162    417.831080  1.209997     3.090344      1\n",
       "17     CT       639   1332.546416  0.828923     3.020180      2\n",
       "18     OH       178    553.985260  1.171475     3.005971      1\n",
       "19     NY       392    625.795968  0.586439     2.629395      2\n",
       "20     PA       274    620.265364  0.685732     2.593234      1\n",
       "21     HI       456    852.269590  0.569721     2.585447      2\n",
       "22     NJ       252    434.094568  0.622049     2.554847      1\n",
       "23     RI       146    267.079350  0.651535     2.446878      2\n",
       "24     VT       119    161.536870  0.581765     2.422133      1\n",
       "25     MN       176    264.998520  0.547518     2.396140      2\n",
       "26     AZ       126    266.634472  0.621408     2.325842      1"
      ]
     },
     "execution_count": 58,
     "metadata": {},
     "output_type": "execute_result"
    }
   ],
   "source": [
    "X_final[['region', 'sessions', 'revenue', 'rpl', 'final_score', 'group']]"
   ]
  },
  {
   "cell_type": "code",
   "execution_count": 44,
   "metadata": {},
   "outputs": [
    {
     "data": {
      "text/plain": [
       "0.9782640756465824"
      ]
     },
     "execution_count": 44,
     "metadata": {},
     "output_type": "execute_result"
    }
   ],
   "source": [
    "welches_t_test(X_final.query('group == 1'), X_final.query('group == 2'), 'final_score')"
   ]
  },
  {
   "cell_type": "code",
   "execution_count": 45,
   "metadata": {},
   "outputs": [
    {
     "name": "stdout",
     "output_type": "stream",
     "text": [
      "0.0%\n"
     ]
    }
   ],
   "source": [
    "print(f\"{X_final.query('conversions < 1')['revenue'].sum() / X_final['revenue'].sum() * 100}%\")"
   ]
  },
  {
   "cell_type": "markdown",
   "metadata": {},
   "source": [
    "## Test on next 30 days"
   ]
  },
  {
   "cell_type": "code",
   "execution_count": 46,
   "metadata": {},
   "outputs": [],
   "source": [
    "u65_test = calculate_bag_rps(ma_df_test.query('product == \"HEALTH\"'), 'date', 'revenue')\n",
    "o65_test = calculate_bag_rps(ma_df_test.query('product == \"MEDICARE\"'), 'date', 'revenue')"
   ]
  },
  {
   "cell_type": "code",
   "execution_count": 47,
   "metadata": {},
   "outputs": [],
   "source": [
    "u65_test_stats = calc_location_stats(u65_test.query('dma_state not in [\"803CA\", \"807CA\", \"825CA\", \"862CA\"]'), SPLIT_REGION, min_conversions=1)"
   ]
  },
  {
   "cell_type": "code",
   "execution_count": 48,
   "metadata": {},
   "outputs": [],
   "source": [
    "ca_test_stats = calc_location_stats(u65_test.query('dma_state in [\"803CA\", \"807CA\", \"825CA\", \"862CA\"]'), 'dma_state', min_conversions=1)"
   ]
  },
  {
   "cell_type": "code",
   "execution_count": 49,
   "metadata": {},
   "outputs": [],
   "source": [
    "u65_test_stats = pd.concat([u65_test_stats, ca_test_stats]).reset_index(drop=True)"
   ]
  },
  {
   "cell_type": "code",
   "execution_count": 50,
   "metadata": {},
   "outputs": [],
   "source": [
    "#X_test = u65_test_stats.copy()"
   ]
  },
  {
   "cell_type": "code",
   "execution_count": 51,
   "metadata": {},
   "outputs": [],
   "source": [
    "X_test, scaler_test = prepare_data(u65_test_stats, METRICS)\n",
    "#X_test[METRICS] = scaler.transform(X_test[METRICS])"
   ]
  },
  {
   "cell_type": "code",
   "execution_count": 52,
   "metadata": {},
   "outputs": [],
   "source": [
    "X_test['final_score'] = X_test[METRICS].sum(axis=1)"
   ]
  },
  {
   "cell_type": "code",
   "execution_count": 53,
   "metadata": {},
   "outputs": [],
   "source": [
    "X_test = X_test.merge(X_final[['region', 'group']], how='right', on='region')"
   ]
  },
  {
   "cell_type": "code",
   "execution_count": 54,
   "metadata": {},
   "outputs": [
    {
     "data": {
      "text/plain": [
       "0.9596535894187064"
      ]
     },
     "execution_count": 54,
     "metadata": {},
     "output_type": "execute_result"
    }
   ],
   "source": [
    "welches_t_test(X_test.query('group == 1'), X_test.query('group == 2'), 'final_score')"
   ]
  },
  {
   "cell_type": "code",
   "execution_count": 55,
   "metadata": {},
   "outputs": [
    {
     "name": "stdout",
     "output_type": "stream",
     "text": [
      "0.0%\n"
     ]
    }
   ],
   "source": [
    "print(f\"{X_test.query('conversions < 1')['revenue'].sum() / X_test['revenue'].sum() * 100}%\")"
   ]
  },
  {
   "cell_type": "markdown",
   "metadata": {},
   "source": []
  },
  {
   "cell_type": "markdown",
   "metadata": {},
   "source": [
    "## Previous attempts at split (only here as documentation, not completely valid)\n",
    "### Stable number of conversions analysis"
   ]
  },
  {
   "cell_type": "code",
   "execution_count": 1,
   "metadata": {},
   "outputs": [
    {
     "ename": "NameError",
     "evalue": "name 'ma_df' is not defined",
     "output_type": "error",
     "traceback": [
      "\u001b[0;31m---------------------------------------------------------------------------\u001b[0m",
      "\u001b[0;31mNameError\u001b[0m                                 Traceback (most recent call last)",
      "\u001b[0;32m<ipython-input-1-75102f8664c9>\u001b[0m in \u001b[0;36m<module>\u001b[0;34m\u001b[0m\n\u001b[0;32m----> 1\u001b[0;31m \u001b[0mstate_prod_df\u001b[0m \u001b[0;34m=\u001b[0m \u001b[0mma_df\u001b[0m\u001b[0;34m.\u001b[0m\u001b[0mgroupby\u001b[0m\u001b[0;34m(\u001b[0m\u001b[0mby\u001b[0m\u001b[0;34m=\u001b[0m\u001b[0;34m[\u001b[0m\u001b[0;34m'product'\u001b[0m\u001b[0;34m,\u001b[0m \u001b[0;34m'state_code'\u001b[0m\u001b[0;34m]\u001b[0m\u001b[0;34m)\u001b[0m\u001b[0;34m.\u001b[0m\u001b[0magg\u001b[0m\u001b[0;34m(\u001b[0m\u001b[0;34m{\u001b[0m\u001b[0;34m'revenue'\u001b[0m\u001b[0;34m:\u001b[0m \u001b[0;34m[\u001b[0m\u001b[0;34m'count'\u001b[0m\u001b[0;34m,\u001b[0m\u001b[0;34m'sum'\u001b[0m\u001b[0;34m,\u001b[0m \u001b[0;34m'std'\u001b[0m\u001b[0;34m,\u001b[0m \u001b[0;34m'var'\u001b[0m\u001b[0;34m,\u001b[0m \u001b[0;34m'mean'\u001b[0m\u001b[0;34m]\u001b[0m\u001b[0;34m}\u001b[0m\u001b[0;34m)\u001b[0m\u001b[0;34m.\u001b[0m\u001b[0mreset_index\u001b[0m\u001b[0;34m(\u001b[0m\u001b[0;34m)\u001b[0m\u001b[0;34m\u001b[0m\u001b[0;34m\u001b[0m\u001b[0m\n\u001b[0m",
      "\u001b[0;31mNameError\u001b[0m: name 'ma_df' is not defined"
     ]
    }
   ],
   "source": [
    "state_prod_df = ma_df.groupby(by=['product', 'state_code']).agg({'revenue': ['count','sum', 'std', 'var', 'mean']}).reset_index()"
   ]
  },
  {
   "cell_type": "code",
   "execution_count": null,
   "metadata": {},
   "outputs": [],
   "source": [
    "state_prod_df.columns = state_prod_df.columns.droplevel()"
   ]
  },
  {
   "cell_type": "code",
   "execution_count": null,
   "metadata": {},
   "outputs": [],
   "source": [
    "cols = state_prod_df.columns[2:]\n",
    "cols = cols.insert(0,'state_code')\n",
    "cols = cols.insert(0,'product')\n",
    "state_prod_df.columns = cols"
   ]
  },
  {
   "cell_type": "code",
   "execution_count": null,
   "metadata": {},
   "outputs": [],
   "source": [
    "state_prod_df['std_proportion'] = state_prod_df['std'] / state_prod_df['mean']"
   ]
  },
  {
   "cell_type": "code",
   "execution_count": null,
   "metadata": {},
   "outputs": [],
   "source": [
    "state_prod_df[state_prod_df['count'] < 200][['count', 'std_proportion']].plot.scatter(x='count',y='std_proportion')"
   ]
  },
  {
   "cell_type": "code",
   "execution_count": null,
   "metadata": {},
   "outputs": [],
   "source": [
    "state_prod_df['count'].max()"
   ]
  },
  {
   "cell_type": "code",
   "execution_count": null,
   "metadata": {},
   "outputs": [],
   "source": [
    "sns.lmplot(x='count', y='std_proportion', data=state_prod_df[(state_prod_df['count']<200) & (~state_prod_df['count'].isna())], logx=True)"
   ]
  },
  {
   "cell_type": "code",
   "execution_count": null,
   "metadata": {},
   "outputs": [],
   "source": [
    "dma_stats_df = calc_location_stats(ma_df, ['product', 'state_code', 'dma_state'], 30)\n",
    "state_stats_df = calc_location_stats(ma_df, ['product', 'state_code'], 1)"
   ]
  },
  {
   "cell_type": "code",
   "execution_count": null,
   "metadata": {},
   "outputs": [],
   "source": [
    "dma_stats_df.sort_values(by=['rps'], ascending=False).head(4)"
   ]
  },
  {
   "cell_type": "code",
   "execution_count": null,
   "metadata": {},
   "outputs": [],
   "source": [
    "state_stats_df.sort_values(by=['rps'], ascending=False).head(5)"
   ]
  },
  {
   "cell_type": "code",
   "execution_count": null,
   "metadata": {},
   "outputs": [],
   "source": []
  },
  {
   "cell_type": "code",
   "execution_count": null,
   "metadata": {},
   "outputs": [],
   "source": [
    "def welches_t_test(parent_sample_df, child_sample_df):\n",
    "\n",
    "    results = dict()\n",
    "    for label, df in [('parent', parent_sample_df), ('child', child_sample_df)]:\n",
    "        \n",
    "        conversions, revenue = df[['has_conversion', 'revenue']].sum()\n",
    "        conversions = int(conversions)\n",
    "        sessions = len(df)\n",
    "        \n",
    "        rps = revenue / sessions\n",
    "        avg_value = revenue / conversions\n",
    "        conv_rate = conversions / sessions\n",
    "        \n",
    "        results[label] = {\n",
    "            'conversions': conversions,\n",
    "            'revenue': revenue,\n",
    "            'sessions': sessions,\n",
    "            'rps': rps,\n",
    "            'avg_value': avg_value,\n",
    "            'conv_rate': conv_rate,\n",
    "        }\n",
    "    \n",
    "    results['pval'] = ttest_ind(\n",
    "        parent_sample_df['revenue'],\n",
    "        child_sample_df['revenue'], \n",
    "        equal_var=False,\n",
    "        nan_policy='omit'\n",
    "    )[1]\n",
    "    \n",
    "    return results"
   ]
  },
  {
   "cell_type": "code",
   "execution_count": null,
   "metadata": {},
   "outputs": [],
   "source": [
    "P_VALUE_THRESHOLD = 0.05\n",
    "MIN_CONVERSIONS = 20"
   ]
  },
  {
   "cell_type": "code",
   "execution_count": null,
   "metadata": {},
   "outputs": [],
   "source": [
    "header = ['product', 'state', 'dma_state', 'state_rps', 'dma_rps', 'pval']\n",
    "rows = []\n",
    "for product in ['HEALTH', 'MEDICARE']:\n",
    "    \n",
    "    eligible_dmas = dma_stats_df[\n",
    "        (dma_stats_df['product'] == product) & \n",
    "        (dma_stats_df['conversions'] >= MIN_CONVERSIONS)\n",
    "    ]\n",
    "\n",
    "    for state_code, dma_state in eligible_dmas[['state_code', 'dma_state']].values:\n",
    "\n",
    "        df_slice = ma_df[(ma_df['product'] == product) & (ma_df['state_code'] == state_code)]\n",
    "\n",
    "        # generate sample sets\n",
    "        state_sample = df_slice[df_slice['dma_state'] != dma_state]\n",
    "        dma_sample = df_slice[df_slice['dma_state'] == dma_state]\n",
    "\n",
    "        # if statement two purposes:\n",
    "        # 1. handles edge cases where a dma_state has only one city, ex. washington dc\n",
    "        # 2. makes sure dma has enough data after removing city data points\n",
    "        if len(state_sample) >= MIN_CONVERSIONS:\n",
    "            \n",
    "            # run significance testing\n",
    "            tstats = welches_t_test(state_sample, dma_sample)\n",
    "\n",
    "            row = [product, state_code, dma_state, tstats['parent']['rps'], tstats['child']['rps'], tstats['pval']]\n",
    "            rows.append(row)\n",
    "\n",
    "\n",
    "dma_exemptions = pd.DataFrame(rows, columns=header)"
   ]
  },
  {
   "cell_type": "code",
   "execution_count": null,
   "metadata": {},
   "outputs": [],
   "source": [
    "dma_exemptions[dma_exemptions['pval'] <= P_VALUE_THRESHOLD].sort_values(by='pval')"
   ]
  },
  {
   "cell_type": "code",
   "execution_count": null,
   "metadata": {},
   "outputs": [],
   "source": [
    "dma_exemptions.sort_values(by='pval')"
   ]
  },
  {
   "cell_type": "code",
   "execution_count": null,
   "metadata": {},
   "outputs": [],
   "source": [
    "eligible_dmas = dma_stats_df[dma_stats_df['conversions'] >= MIN_CONVERSIONS]\n",
    "eligible_dmas[['product', 'rps']].hist(by='product', bins=10, figsize=(15,10), sharey=True)"
   ]
  },
  {
   "cell_type": "code",
   "execution_count": null,
   "metadata": {},
   "outputs": [],
   "source": [
    "product_df = calc_location_stats(ma_df, ['product'])\n",
    "product_df"
   ]
  },
  {
   "cell_type": "code",
   "execution_count": null,
   "metadata": {},
   "outputs": [],
   "source": [
    "sort_product = 'MEDICARE'\n",
    "sort_field = 'sessions'\n",
    "\n",
    "state_order_df = state_stats_df[state_stats_df['product'] == sort_product][['state_code', sort_field]]\n",
    "state_order_df = state_order_df.set_index(sort_field).sort_index().reset_index()\n",
    "state_order_df['rank'] = state_order_df.index\n",
    "state_order_df = state_order_df[['state_code', 'rank']]\n",
    "\n",
    "plot_df = state_stats_df.merge(state_order_df, how='inner', on='state_code')\n",
    "plot_df.pivot_table(index=['rank', 'state_code'], columns='product', values=sort_field)\\\n",
    "    .plot.bar(figsize=(15,10), title='Revenue Per Click By State')"
   ]
  },
  {
   "cell_type": "code",
   "execution_count": null,
   "metadata": {},
   "outputs": [],
   "source": [
    "sort_product = 'MEDICARE'\n",
    "sort_field = 'rps'\n",
    "\n",
    "state_order_df = state_stats_df[state_stats_df['product'] == sort_product][['state_code', sort_field]]\n",
    "state_order_df = state_order_df.set_index(sort_field).sort_index().reset_index()\n",
    "state_order_df['rank'] = state_order_df.index\n",
    "state_order_df = state_order_df[['state_code', 'rank']]\n",
    "\n",
    "plot_df = state_stats_df.merge(state_order_df, how='inner', on='state_code')\n",
    "plot_df.pivot_table(index=['rank', 'state_code'], columns='product', values='rps')\\\n",
    "    .plot.bar(figsize=(15,10), title='Revenue Per Click By State')"
   ]
  },
  {
   "cell_type": "code",
   "execution_count": null,
   "metadata": {},
   "outputs": [],
   "source": [
    "def generate_ranks_df(df, product, sort_field='rps'):\n",
    "    df = df[df['product'] == product][['state_code', sort_field]]\n",
    "    df = df.set_index(sort_field).sort_index().reset_index()\n",
    "    df['rank'] = df.index\n",
    "    df = df[['state_code', 'rank']]\n",
    "    return df\n",
    "\n",
    "\n",
    "medicare_rank = generate_ranks_df(state_stats_df, 'MEDICARE')\n",
    "health_rank = generate_ranks_df(state_stats_df, 'HEALTH')\n",
    "\n",
    "medicare_rank.head(3), health_rank.head(3)"
   ]
  },
  {
   "cell_type": "markdown",
   "metadata": {},
   "source": [
    "# Clustering Algorithm"
   ]
  },
  {
   "cell_type": "code",
   "execution_count": null,
   "metadata": {},
   "outputs": [],
   "source": [
    "from sklearn.preprocessing import StandardScaler, MaxAbsScaler\n",
    "from sklearn.cluster import KMeans\n",
    "import seaborn as sns"
   ]
  },
  {
   "cell_type": "code",
   "execution_count": null,
   "metadata": {},
   "outputs": [],
   "source": [
    "scaler = StandardScaler()"
   ]
  },
  {
   "cell_type": "code",
   "execution_count": null,
   "metadata": {},
   "outputs": [],
   "source": [
    "state_stats_df[['sessions', 'conversions', 'revenue', 'rps', 'conversion_rate', 'rpl']]"
   ]
  },
  {
   "cell_type": "code",
   "execution_count": null,
   "metadata": {},
   "outputs": [],
   "source": [
    "scaled_state_df = state_stats_df.copy()"
   ]
  },
  {
   "cell_type": "code",
   "execution_count": null,
   "metadata": {},
   "outputs": [],
   "source": [
    "scaled_state_df[['sessions', 'conversions', 'revenue', 'rps', 'conversion_rate', 'rpl']] = scaler.fit_transform(state_stats_df[['sessions', 'conversions', 'revenue', 'rps', 'conversion_rate', 'rpl']])"
   ]
  },
  {
   "cell_type": "code",
   "execution_count": null,
   "metadata": {},
   "outputs": [],
   "source": [
    "scaled_state_df"
   ]
  },
  {
   "cell_type": "code",
   "execution_count": null,
   "metadata": {},
   "outputs": [],
   "source": [
    "clst = KMeans(n_clusters=2, init='k-means++')"
   ]
  },
  {
   "cell_type": "code",
   "execution_count": null,
   "metadata": {},
   "outputs": [],
   "source": [
    "clst.fit(scaled_state_df[['sessions', 'conversions', 'revenue', 'rps', 'conversion_rate', 'rpl']])"
   ]
  },
  {
   "cell_type": "code",
   "execution_count": null,
   "metadata": {},
   "outputs": [],
   "source": [
    "scaled_state_df['cluster'] = clst.labels_"
   ]
  },
  {
   "cell_type": "code",
   "execution_count": null,
   "metadata": {},
   "outputs": [],
   "source": [
    "sns.scatterplot(data=scaled_state_df, x='conversion_rate', y='rpl', hue='cluster', size='sessions')"
   ]
  },
  {
   "cell_type": "code",
   "execution_count": null,
   "metadata": {},
   "outputs": [],
   "source": [
    "clst.score(scaled_state_df[['sessions', 'conversions', 'revenue', 'rps', 'conversion_rate', 'rpl']])"
   ]
  },
  {
   "cell_type": "code",
   "execution_count": null,
   "metadata": {},
   "outputs": [],
   "source": [
    "N = 10"
   ]
  },
  {
   "cell_type": "code",
   "execution_count": null,
   "metadata": {},
   "outputs": [],
   "source": [
    "def elbow_analysis(df, cols, n_max):\n",
    "    scores = []\n",
    "    for n in range(2, n_max):\n",
    "        cls = KMeans(n_clusters=n, init='k-means++')\n",
    "        cls.fit(df[cols])\n",
    "        scores.append(-1 * cls.score(df[cols]))\n",
    "    \n",
    "    return scores"
   ]
  },
  {
   "cell_type": "code",
   "execution_count": null,
   "metadata": {},
   "outputs": [],
   "source": [
    "scores = elbow_analysis(scaled_state_df, ['sessions', 'conversions', 'revenue', 'rps', 'conversion_rate', 'rpl'], N)"
   ]
  },
  {
   "cell_type": "code",
   "execution_count": null,
   "metadata": {},
   "outputs": [],
   "source": [
    "sns.lineplot(x=range(2,N), y=scores)"
   ]
  },
  {
   "cell_type": "code",
   "execution_count": null,
   "metadata": {},
   "outputs": [],
   "source": [
    "cls = KMeans(n_clusters=4, init='k-means++')\n",
    "cls.fit(scaled_state_df[['sessions', 'conversions', 'revenue', 'rps', 'conversion_rate', 'rpl']])"
   ]
  },
  {
   "cell_type": "code",
   "execution_count": null,
   "metadata": {},
   "outputs": [],
   "source": [
    "scaled_state_df['cluster'] = cls.labels_"
   ]
  },
  {
   "cell_type": "code",
   "execution_count": null,
   "metadata": {},
   "outputs": [],
   "source": [
    "sns.scatterplot(data=scaled_state_df, x='conversion_rate', y='rpl', hue='cluster', size='sessions', palette='colorblind')"
   ]
  },
  {
   "cell_type": "code",
   "execution_count": null,
   "metadata": {},
   "outputs": [],
   "source": [
    "def prepare_data(df, cols, scale_method='standard'):\n",
    "    scaler = None\n",
    "    if scale_method == 'standard':\n",
    "        scaler = StandardScaler()\n",
    "    if scale_method == 'max':\n",
    "        scaler = MaxAbsScaler()\n",
    "    scaled_df = df.copy()\n",
    "    if scaler:\n",
    "        scaled_df[cols] = scaler.fit_transform(df[cols])\n",
    "\n",
    "    return scaled_df, scaler"
   ]
  },
  {
   "cell_type": "code",
   "execution_count": null,
   "metadata": {},
   "outputs": [],
   "source": [
    "N = 20"
   ]
  },
  {
   "cell_type": "code",
   "execution_count": null,
   "metadata": {},
   "outputs": [],
   "source": [
    "cols = ['sessions', 'rps', 'conversion_rate', 'rpl']"
   ]
  },
  {
   "cell_type": "code",
   "execution_count": null,
   "metadata": {},
   "outputs": [],
   "source": [
    "X, scaler = prepare_data(dma_stats_df, cols, scale_method='max')"
   ]
  },
  {
   "cell_type": "code",
   "execution_count": null,
   "metadata": {},
   "outputs": [],
   "source": [
    "scores = elbow_analysis(X, cols, N)"
   ]
  },
  {
   "cell_type": "code",
   "execution_count": null,
   "metadata": {},
   "outputs": [],
   "source": [
    "sns.lineplot(x=range(2,N), y=scores)"
   ]
  },
  {
   "cell_type": "code",
   "execution_count": null,
   "metadata": {},
   "outputs": [],
   "source": [
    "cls = KMeans(n_clusters=2, init='k-means++')\n",
    "cls.fit(X[cols])"
   ]
  },
  {
   "cell_type": "code",
   "execution_count": null,
   "metadata": {},
   "outputs": [],
   "source": [
    "X['cluster'] = cls.labels_"
   ]
  },
  {
   "cell_type": "code",
   "execution_count": null,
   "metadata": {},
   "outputs": [],
   "source": [
    "sns.scatterplot(data=X, x='conversion_rate', y='rpl', hue='cluster', size='sessions', palette='colorblind')"
   ]
  },
  {
   "cell_type": "code",
   "execution_count": null,
   "metadata": {},
   "outputs": [],
   "source": [
    "X[cols+['cluster']]"
   ]
  },
  {
   "cell_type": "code",
   "execution_count": null,
   "metadata": {},
   "outputs": [],
   "source": [
    "X['cluster'].value_counts()"
   ]
  },
  {
   "cell_type": "code",
   "execution_count": null,
   "metadata": {},
   "outputs": [],
   "source": [
    "X['score'] = X['sessions'] * (X['conversions'] +  X['revenue'] + X['rps'] + X['conversion_rate'] + X['rpl'])"
   ]
  },
  {
   "cell_type": "code",
   "execution_count": null,
   "metadata": {},
   "outputs": [],
   "source": [
    "X.sort_values(by='score', ascending=False).reset_index()"
   ]
  },
  {
   "cell_type": "code",
   "execution_count": null,
   "metadata": {},
   "outputs": [],
   "source": [
    "ma_df"
   ]
  },
  {
   "cell_type": "code",
   "execution_count": null,
   "metadata": {},
   "outputs": [],
   "source": []
  }
 ],
 "metadata": {
  "kernelspec": {
   "display_name": "Python 3",
   "language": "python",
   "name": "python3"
  },
  "language_info": {
   "codemirror_mode": {
    "name": "ipython",
    "version": 3
   },
   "file_extension": ".py",
   "mimetype": "text/x-python",
   "name": "python",
   "nbconvert_exporter": "python",
   "pygments_lexer": "ipython3",
   "version": "3.8.9"
  }
 },
 "nbformat": 4,
 "nbformat_minor": 4
}
